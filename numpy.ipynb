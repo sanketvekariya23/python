{
 "cells": [
  {
   "cell_type": "code",
   "execution_count": 9,
   "id": "ce3d47ca",
   "metadata": {},
   "outputs": [
    {
     "data": {
      "text/plain": [
       "array([[0, 1, 2, 3]], dtype=int64)"
      ]
     },
     "execution_count": 9,
     "metadata": {},
     "output_type": "execute_result"
    }
   ],
   "source": [
    "import numpy as np\n",
    "myarr=np.array([[0,1,2,3,4,5,6]],np.int64)       #two daimantional array[[]]\n",
    "myarr"
   ]
  },
  {
   "cell_type": "code",
   "execution_count": 16,
   "id": "d25251f7",
   "metadata": {},
   "outputs": [
    {
     "data": {
      "text/plain": [
       "3"
      ]
     },
     "execution_count": 16,
     "metadata": {},
     "output_type": "execute_result"
    }
   ],
   "source": [
    "myarr[0,3]"
   ]
  },
  {
   "cell_type": "code",
   "execution_count": 13,
   "id": "5d38040a",
   "metadata": {},
   "outputs": [
    {
     "data": {
      "text/plain": [
       "(1, 4)"
      ]
     },
     "execution_count": 13,
     "metadata": {},
     "output_type": "execute_result"
    }
   ],
   "source": [
    "myarr.shape"
   ]
  },
  {
   "cell_type": "code",
   "execution_count": 17,
   "id": "b0468b4e",
   "metadata": {},
   "outputs": [
    {
     "data": {
      "text/plain": [
       "dtype('int64')"
      ]
     },
     "execution_count": 17,
     "metadata": {},
     "output_type": "execute_result"
    }
   ],
   "source": [
    "myarr.dtype"
   ]
  },
  {
   "cell_type": "markdown",
   "id": "d5dc21b4",
   "metadata": {},
   "source": [
    "# array creation : conversion from the other python structure ->list"
   ]
  },
  {
   "cell_type": "code",
   "execution_count": 20,
   "id": "6fc25a79",
   "metadata": {},
   "outputs": [
    {
     "data": {
      "text/plain": [
       "array([[ 0, 10,  2,  3],\n",
       "       [ 4, 50,  6,  7],\n",
       "       [80,  9, 10, 11]])"
      ]
     },
     "execution_count": 20,
     "metadata": {},
     "output_type": "execute_result"
    }
   ],
   "source": [
    "arraylist = np.array([[0,10,2,3],[4,50,6,7],[80,9,10,11]])\n",
    "arraylist"
   ]
  },
  {
   "cell_type": "code",
   "execution_count": 21,
   "id": "469b4e2b",
   "metadata": {},
   "outputs": [
    {
     "data": {
      "text/plain": [
       "12"
      ]
     },
     "execution_count": 21,
     "metadata": {},
     "output_type": "execute_result"
    }
   ],
   "source": [
    "arraylist.size"
   ]
  },
  {
   "cell_type": "code",
   "execution_count": 22,
   "id": "2a8d31b2",
   "metadata": {},
   "outputs": [
    {
     "data": {
      "text/plain": [
       "(3, 4)"
      ]
     },
     "execution_count": 22,
     "metadata": {},
     "output_type": "execute_result"
    }
   ],
   "source": [
    "arraylist.shape"
   ]
  },
  {
   "cell_type": "code",
   "execution_count": 23,
   "id": "dd070ac2",
   "metadata": {},
   "outputs": [
    {
     "data": {
      "text/plain": [
       "dtype('int32')"
      ]
     },
     "execution_count": 23,
     "metadata": {},
     "output_type": "execute_result"
    }
   ],
   "source": [
    "arraylist.dtype"
   ]
  },
  {
   "cell_type": "markdown",
   "id": "262b775c",
   "metadata": {},
   "source": [
    "# intrinsic array creation objects arange ones zeroes etc "
   ]
  },
  {
   "cell_type": "code",
   "execution_count": 27,
   "id": "e9fd7c2a",
   "metadata": {},
   "outputs": [],
   "source": [
    "zeros = np.zeros((2,5))     #it create 2x5 daimantinal array"
   ]
  },
  {
   "cell_type": "code",
   "execution_count": 28,
   "id": "de0ebac3",
   "metadata": {},
   "outputs": [
    {
     "data": {
      "text/plain": [
       "array([[0., 0., 0., 0., 0.],\n",
       "       [0., 0., 0., 0., 0.]])"
      ]
     },
     "execution_count": 28,
     "metadata": {},
     "output_type": "execute_result"
    }
   ],
   "source": [
    "zeros"
   ]
  },
  {
   "cell_type": "code",
   "execution_count": 29,
   "id": "8db7ac15",
   "metadata": {},
   "outputs": [],
   "source": [
    "arange = np.arange(15)   # it is create 0 to n-1 array "
   ]
  },
  {
   "cell_type": "code",
   "execution_count": 30,
   "id": "6809c0f1",
   "metadata": {},
   "outputs": [
    {
     "data": {
      "text/plain": [
       "array([ 0,  1,  2,  3,  4,  5,  6,  7,  8,  9, 10, 11, 12, 13, 14])"
      ]
     },
     "execution_count": 30,
     "metadata": {},
     "output_type": "execute_result"
    }
   ],
   "source": [
    "arange"
   ]
  },
  {
   "cell_type": "code",
   "execution_count": 31,
   "id": "467dc817",
   "metadata": {},
   "outputs": [
    {
     "data": {
      "text/plain": [
       "array([0.        , 1.66666667, 3.33333333, 5.        ])"
      ]
     },
     "execution_count": 31,
     "metadata": {},
     "output_type": "execute_result"
    }
   ],
   "source": [
    "linspace = np.linspace(0,5,4)\n",
    "linspace"
   ]
  },
  {
   "cell_type": "code",
   "execution_count": null,
   "id": "7c6f9bff",
   "metadata": {},
   "outputs": [],
   "source": []
  }
 ],
 "metadata": {
  "kernelspec": {
   "display_name": "Python 3 (ipykernel)",
   "language": "python",
   "name": "python3"
  },
  "language_info": {
   "codemirror_mode": {
    "name": "ipython",
    "version": 3
   },
   "file_extension": ".py",
   "mimetype": "text/x-python",
   "name": "python",
   "nbconvert_exporter": "python",
   "pygments_lexer": "ipython3",
   "version": "3.11.4"
  }
 },
 "nbformat": 4,
 "nbformat_minor": 5
}
