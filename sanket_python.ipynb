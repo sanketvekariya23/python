{
 "cells": [
  {
   "cell_type": "code",
   "execution_count": 1,
   "id": "c39f9aa0",
   "metadata": {},
   "outputs": [
    {
     "name": "stdout",
     "output_type": "stream",
     "text": [
      "sanket \n",
      " vekariya\n"
     ]
    }
   ],
   "source": [
    "print(\"sanket \\n vekariya\")"
   ]
  },
  {
   "cell_type": "code",
   "execution_count": 2,
   "id": "de10bbfe",
   "metadata": {},
   "outputs": [
    {
     "name": "stdout",
     "output_type": "stream",
     "text": [
      "sanket\n",
      "how\n",
      "you?\n"
     ]
    }
   ],
   "source": [
    "# print( ) function by defualt after each and every print function it print in new line\n",
    "print(\"sanket\")\n",
    "print(\"how\")       #print in new line\n",
    "print(\"you?\")      # print in new line"
   ]
  },
  {
   "cell_type": "code",
   "execution_count": 3,
   "id": "6edd4405",
   "metadata": {},
   "outputs": [
    {
     "name": "stdout",
     "output_type": "stream",
     "text": [
      "sankethowyou?"
     ]
    }
   ],
   "source": [
    "# but if we want to print in single line \n",
    "print(\"sanket\",end=\"\")\n",
    "print(\"how\",end=\"\")       \n",
    "print(\"you?\",end=\"\")"
   ]
  },
  {
   "cell_type": "code",
   "execution_count": 4,
   "id": "bc248c28",
   "metadata": {},
   "outputs": [
    {
     "name": "stdout",
     "output_type": "stream",
     "text": [
      "sanket  how  you?  "
     ]
    }
   ],
   "source": [
    "print(\"sanket\",end=\"  \")\n",
    "print(\"how\",end=\"  \")       \n",
    "print(\"you?\",end=\"  \")"
   ]
  },
  {
   "cell_type": "code",
   "execution_count": null,
   "id": "99772151",
   "metadata": {},
   "outputs": [],
   "source": []
  }
 ],
 "metadata": {
  "kernelspec": {
   "display_name": "Python 3 (ipykernel)",
   "language": "python",
   "name": "python3"
  },
  "language_info": {
   "codemirror_mode": {
    "name": "ipython",
    "version": 3
   },
   "file_extension": ".py",
   "mimetype": "text/x-python",
   "name": "python",
   "nbconvert_exporter": "python",
   "pygments_lexer": "ipython3",
   "version": "3.11.4"
  }
 },
 "nbformat": 4,
 "nbformat_minor": 5
}
