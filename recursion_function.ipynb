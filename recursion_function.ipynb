{
 "cells": [
  {
   "cell_type": "code",
   "execution_count": 5,
   "id": "26bd2732",
   "metadata": {},
   "outputs": [
    {
     "name": "stdout",
     "output_type": "stream",
     "text": [
      "enter number 5\n",
      "120\n"
     ]
    }
   ],
   "source": [
    "# recursion: function is call it self called recursion\n",
    "#     for example of factorial of number\n",
    "def factorial(x):\n",
    "    if x==0 or x==1:\n",
    "        return 1\n",
    "    else:\n",
    "        return x*factorial(x-1)\n",
    "    \n",
    "x1=int(input(\"enter number \"))\n",
    "f=factorial(x1)\n",
    "print(f)"
   ]
  },
  {
   "cell_type": "code",
   "execution_count": 15,
   "id": "009af2ae",
   "metadata": {},
   "outputs": [
    {
     "name": "stdout",
     "output_type": "stream",
     "text": [
      "enter number\n",
      "3\n"
     ]
    },
    {
     "ename": "RecursionError",
     "evalue": "maximum recursion depth exceeded",
     "output_type": "error",
     "traceback": [
      "\u001b[1;31m---------------------------------------------------------------------------\u001b[0m",
      "\u001b[1;31mRecursionError\u001b[0m                            Traceback (most recent call last)",
      "Cell \u001b[1;32mIn[15], line 10\u001b[0m\n\u001b[0;32m      8\u001b[0m \u001b[38;5;28mprint\u001b[39m(\u001b[38;5;124m\"\u001b[39m\u001b[38;5;124menter number\u001b[39m\u001b[38;5;124m\"\u001b[39m)\n\u001b[0;32m      9\u001b[0m a \u001b[38;5;241m=\u001b[39m \u001b[38;5;28mint\u001b[39m(\u001b[38;5;28minput\u001b[39m())\n\u001b[1;32m---> 10\u001b[0m \u001b[38;5;28mprint\u001b[39m(natural_sum(a))\n",
      "Cell \u001b[1;32mIn[15], line 5\u001b[0m, in \u001b[0;36mnatural_sum\u001b[1;34m(x)\u001b[0m\n\u001b[0;32m      4\u001b[0m \u001b[38;5;28;01mdef\u001b[39;00m \u001b[38;5;21mnatural_sum\u001b[39m(x):\n\u001b[1;32m----> 5\u001b[0m     natural_sum(x) \u001b[38;5;241m==\u001b[39m x \u001b[38;5;241m+\u001b[39m natural_sum(x\u001b[38;5;241m-\u001b[39m\u001b[38;5;241m1\u001b[39m)\n\u001b[0;32m      6\u001b[0m     \u001b[38;5;28;01mreturn\u001b[39;00m natural_sum\n",
      "Cell \u001b[1;32mIn[15], line 5\u001b[0m, in \u001b[0;36mnatural_sum\u001b[1;34m(x)\u001b[0m\n\u001b[0;32m      4\u001b[0m \u001b[38;5;28;01mdef\u001b[39;00m \u001b[38;5;21mnatural_sum\u001b[39m(x):\n\u001b[1;32m----> 5\u001b[0m     natural_sum(x) \u001b[38;5;241m==\u001b[39m x \u001b[38;5;241m+\u001b[39m natural_sum(x\u001b[38;5;241m-\u001b[39m\u001b[38;5;241m1\u001b[39m)\n\u001b[0;32m      6\u001b[0m     \u001b[38;5;28;01mreturn\u001b[39;00m natural_sum\n",
      "    \u001b[1;31m[... skipping similar frames: natural_sum at line 5 (2971 times)]\u001b[0m\n",
      "Cell \u001b[1;32mIn[15], line 5\u001b[0m, in \u001b[0;36mnatural_sum\u001b[1;34m(x)\u001b[0m\n\u001b[0;32m      4\u001b[0m \u001b[38;5;28;01mdef\u001b[39;00m \u001b[38;5;21mnatural_sum\u001b[39m(x):\n\u001b[1;32m----> 5\u001b[0m     natural_sum(x) \u001b[38;5;241m==\u001b[39m x \u001b[38;5;241m+\u001b[39m natural_sum(x\u001b[38;5;241m-\u001b[39m\u001b[38;5;241m1\u001b[39m)\n\u001b[0;32m      6\u001b[0m     \u001b[38;5;28;01mreturn\u001b[39;00m natural_sum\n",
      "\u001b[1;31mRecursionError\u001b[0m: maximum recursion depth exceeded"
     ]
    }
   ],
   "source": [
    "#question:1\n",
    "#write recursive program to print first n natural number\n",
    "\n",
    "def natural_sum(x):\n",
    "    natural_sum(x) == x + natural_sum(x-1)\n",
    "    return natural_sum\n",
    "\n",
    "print(\"enter number\")\n",
    "a = int(input())\n",
    "print(natural_sum(a))"
   ]
  },
  {
   "cell_type": "code",
   "execution_count": null,
   "id": "79755ce3",
   "metadata": {},
   "outputs": [],
   "source": []
  }
 ],
 "metadata": {
  "kernelspec": {
   "display_name": "Python 3 (ipykernel)",
   "language": "python",
   "name": "python3"
  },
  "language_info": {
   "codemirror_mode": {
    "name": "ipython",
    "version": 3
   },
   "file_extension": ".py",
   "mimetype": "text/x-python",
   "name": "python",
   "nbconvert_exporter": "python",
   "pygments_lexer": "ipython3",
   "version": "3.11.4"
  }
 },
 "nbformat": 4,
 "nbformat_minor": 5
}
