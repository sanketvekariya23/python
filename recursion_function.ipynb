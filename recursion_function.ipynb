{
 "cells": [
  {
   "cell_type": "code",
   "execution_count": 5,
   "id": "26bd2732",
   "metadata": {},
   "outputs": [
    {
     "name": "stdout",
     "output_type": "stream",
     "text": [
      "enter number 5\n",
      "120\n"
     ]
    }
   ],
   "source": [
    "# recursion: function is call it self called recursion\n",
    "#     for example of factorial of number\n",
    "def factorial(x):\n",
    "    if x==0 or x==1:\n",
    "        return 1\n",
    "    else:\n",
    "        return x*factorial(x-1)\n",
    "    \n",
    "x1=int(input(\"enter number \"))\n",
    "f=factorial(x1)\n",
    "print(f)"
   ]
  },
  {
   "cell_type": "code",
   "execution_count": 5,
   "id": "009af2ae",
   "metadata": {},
   "outputs": [
    {
     "name": "stdout",
     "output_type": "stream",
     "text": [
      "enter number\n",
      "9\n",
      "45\n"
     ]
    }
   ],
   "source": [
    "#question:1\n",
    "#write recursive program to print first n natural number\n",
    "\n",
    "def natural_sum(x):\n",
    "    if(x!=0):\n",
    "         return x+natural_sum(x-1)\n",
    "    else:\n",
    "        return x\n",
    "\n",
    "print(\"enter number\")\n",
    "a = int(input())\n",
    "ns = natural_sum(a)\n",
    "print(ns)"
   ]
  },
  {
   "cell_type": "code",
   "execution_count": null,
   "id": "79755ce3",
   "metadata": {},
   "outputs": [],
   "source": []
  }
 ],
 "metadata": {
  "kernelspec": {
   "display_name": "Python 3 (ipykernel)",
   "language": "python",
   "name": "python3"
  },
  "language_info": {
   "codemirror_mode": {
    "name": "ipython",
    "version": 3
   },
   "file_extension": ".py",
   "mimetype": "text/x-python",
   "name": "python",
   "nbconvert_exporter": "python",
   "pygments_lexer": "ipython3",
   "version": "3.11.4"
  }
 },
 "nbformat": 4,
 "nbformat_minor": 5
}
