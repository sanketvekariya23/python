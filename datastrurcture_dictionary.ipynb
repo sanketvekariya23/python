{
 "cells": [
  {
   "cell_type": "code",
   "execution_count": 8,
   "id": "5bd41825",
   "metadata": {
    "scrolled": true
   },
   "outputs": [
    {
     "data": {
      "text/plain": [
       "{'apple': 100, 'banana': 101, 'watermalon': 102, 'graps': 103}"
      ]
     },
     "execution_count": 8,
     "metadata": {},
     "output_type": "execute_result"
    }
   ],
   "source": [
    "dic = {\"apple\":100, \"banana\":101,\"watermalon\":102,\"graps\":103}\n",
    "dic"
   ]
  },
  {
   "cell_type": "code",
   "execution_count": 9,
   "id": "b802708d",
   "metadata": {},
   "outputs": [
    {
     "data": {
      "text/plain": [
       "dict_keys(['apple', 'banana', 'watermalon', 'graps'])"
      ]
     },
     "execution_count": 9,
     "metadata": {},
     "output_type": "execute_result"
    }
   ],
   "source": [
    "dic.keys()"
   ]
  },
  {
   "cell_type": "code",
   "execution_count": 10,
   "id": "e9b800fd",
   "metadata": {},
   "outputs": [
    {
     "data": {
      "text/plain": [
       "dict_values([100, 101, 102, 103])"
      ]
     },
     "execution_count": 10,
     "metadata": {},
     "output_type": "execute_result"
    }
   ],
   "source": [
    "dic.values()"
   ]
  },
  {
   "cell_type": "code",
   "execution_count": 14,
   "id": "0046e010",
   "metadata": {},
   "outputs": [
    {
     "data": {
      "text/plain": [
       "{'apple': 100, 'banana': 101, 'watermalon': 102, 'graps': 103, 'sanket': 7008}"
      ]
     },
     "execution_count": 14,
     "metadata": {},
     "output_type": "execute_result"
    }
   ],
   "source": [
    "dic[\"sanket\"] = 7008\n",
    "dic\n"
   ]
  },
  {
   "cell_type": "code",
   "execution_count": 15,
   "id": "b2a44837",
   "metadata": {},
   "outputs": [
    {
     "data": {
      "text/plain": [
       "{'apple': 1000, 'banana': 101, 'watermalon': 102, 'graps': 103, 'sanket': 7008}"
      ]
     },
     "execution_count": 15,
     "metadata": {},
     "output_type": "execute_result"
    }
   ],
   "source": [
    "dic[\"apple\"] = 1000\n",
    "dic"
   ]
  },
  {
   "cell_type": "code",
   "execution_count": 20,
   "id": "2063b7f7",
   "metadata": {},
   "outputs": [
    {
     "data": {
      "text/plain": [
       "{'sanket': 7008, 'vishal': 7064, 'manthan': 7001}"
      ]
     },
     "execution_count": 20,
     "metadata": {},
     "output_type": "execute_result"
    }
   ],
   "source": [
    "dic2 = {\"sanket\":7008,\"vishal\":7064,\"manthan\":7001}\n",
    "dic2\n"
   ]
  },
  {
   "cell_type": "code",
   "execution_count": 22,
   "id": "9c00191a",
   "metadata": {},
   "outputs": [
    {
     "data": {
      "text/plain": [
       "{'apple': 1000,\n",
       " 'banana': 101,\n",
       " 'watermalon': 102,\n",
       " 'graps': 103,\n",
       " 'sanket': 7008,\n",
       " 'vishal': 7064,\n",
       " 'manthan': 7001}"
      ]
     },
     "execution_count": 22,
     "metadata": {},
     "output_type": "execute_result"
    }
   ],
   "source": [
    "dic.update(dic2)\n",
    "dic"
   ]
  },
  {
   "cell_type": "code",
   "execution_count": 23,
   "id": "def5c812",
   "metadata": {},
   "outputs": [
    {
     "data": {
      "text/plain": [
       "{'apple': 1000,\n",
       " 'banana': 101,\n",
       " 'graps': 103,\n",
       " 'sanket': 7008,\n",
       " 'vishal': 7064,\n",
       " 'manthan': 7001}"
      ]
     },
     "execution_count": 23,
     "metadata": {},
     "output_type": "execute_result"
    }
   ],
   "source": [
    "dic.pop(\"watermalon\")\n",
    "dic"
   ]
  }
 ],
 "metadata": {
  "kernelspec": {
   "display_name": "Python 3 (ipykernel)",
   "language": "python",
   "name": "python3"
  },
  "language_info": {
   "codemirror_mode": {
    "name": "ipython",
    "version": 3
   },
   "file_extension": ".py",
   "mimetype": "text/x-python",
   "name": "python",
   "nbconvert_exporter": "python",
   "pygments_lexer": "ipython3",
   "version": "3.11.4"
  }
 },
 "nbformat": 4,
 "nbformat_minor": 5
}
