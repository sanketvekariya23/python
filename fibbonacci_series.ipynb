{
 "cells": [
  {
   "cell_type": "code",
   "execution_count": 12,
   "id": "cf88b9f7",
   "metadata": {},
   "outputs": [
    {
     "ename": "IndentationError",
     "evalue": "unindent does not match any outer indentation level (<tokenize>, line 10)",
     "output_type": "error",
     "traceback": [
      "\u001b[1;36m  File \u001b[1;32m<tokenize>:10\u001b[1;36m\u001b[0m\n\u001b[1;33m    fib_series1 = []\u001b[0m\n\u001b[1;37m    ^\u001b[0m\n\u001b[1;31mIndentationError\u001b[0m\u001b[1;31m:\u001b[0m unindent does not match any outer indentation level\n"
     ]
    }
   ],
   "source": [
    "number = int(input(\"enter the number\"))\n",
    "if number<=0:\n",
    "    print(\"enter the number >= 0 \")\n",
    "else :\n",
    "    result = fib_series(number)\n",
    "    print(result)\n",
    "    \n",
    "def fib_series(number):\n",
    "     a, b = 0, 1\n",
    "    fib_series1 = []\n",
    "    for i in range(number):\n",
    "        fib_series1.append(a)\n",
    "         a, b = b, a + b\n",
    "            \n",
    "    return fib_series"
   ]
  },
  {
   "cell_type": "code",
   "execution_count": 13,
   "id": "8f7d70a9",
   "metadata": {},
   "outputs": [
    {
     "name": "stdout",
     "output_type": "stream",
     "text": [
      "Enter the number of terms for Fibonacci series: 5\n",
      "The Fibonacci series with 5 terms is: [0, 1, 1, 2, 3]\n"
     ]
    }
   ],
   "source": [
    "def fibonacci(n):\n",
    "    fib_series = []\n",
    "    a, b = 0, 1\n",
    "\n",
    "    for _ in range(n):\n",
    "        fib_series.append(a)\n",
    "        a, b = b, a + b\n",
    "\n",
    "    return fib_series\n",
    "\n",
    "num_terms = int(input(\"Enter the number of terms for Fibonacci series: \"))\n",
    "\n",
    "if num_terms <= 0:\n",
    "    print(\"Please enter a positive integer.\")\n",
    "else:\n",
    "    result = fibonacci(num_terms)\n",
    "    print(f\"The Fibonacci series with {num_terms} terms is: {result}\")"
   ]
  },
  {
   "cell_type": "code",
   "execution_count": null,
   "id": "dbe003c1",
   "metadata": {},
   "outputs": [],
   "source": []
  }
 ],
 "metadata": {
  "kernelspec": {
   "display_name": "Python 3 (ipykernel)",
   "language": "python",
   "name": "python3"
  },
  "language_info": {
   "codemirror_mode": {
    "name": "ipython",
    "version": 3
   },
   "file_extension": ".py",
   "mimetype": "text/x-python",
   "name": "python",
   "nbconvert_exporter": "python",
   "pygments_lexer": "ipython3",
   "version": "3.11.4"
  }
 },
 "nbformat": 4,
 "nbformat_minor": 5
}
