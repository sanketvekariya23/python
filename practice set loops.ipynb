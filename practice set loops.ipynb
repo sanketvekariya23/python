{
 "cells": [
  {
   "cell_type": "code",
   "execution_count": 2,
   "id": "75f4fcc5",
   "metadata": {},
   "outputs": [
    {
     "name": "stdout",
     "output_type": "stream",
     "text": [
      "enter number for multiplicant table50\n",
      "50*1=50\n",
      "50*2=100\n",
      "50*3=150\n",
      "50*4=200\n",
      "50*5=250\n",
      "50*6=300\n",
      "50*7=350\n",
      "50*8=400\n",
      "50*9=450\n",
      "50*10=500\n"
     ]
    }
   ],
   "source": [
    "# multiplicant table of given number \n",
    "a = int(input(\"enter number for multiplicant table\"))\n",
    "i = 1\n",
    "while i<=10:\n",
    "    print(str(a) + \"*\" + str(i) +\"=\"+str(a*i))\n",
    "    i = i+1"
   ]
  },
  {
   "cell_type": "code",
   "execution_count": 3,
   "id": "c92d4b66",
   "metadata": {},
   "outputs": [
    {
     "name": "stdout",
     "output_type": "stream",
     "text": [
      "enter number for multiplicant table2\n",
      "2 0 0\n",
      "2 1 2\n",
      "2 2 4\n",
      "2 3 6\n",
      "2 4 8\n",
      "2 5 10\n",
      "2 6 12\n",
      "2 7 14\n",
      "2 8 16\n",
      "2 9 18\n"
     ]
    }
   ],
   "source": [
    " #multiplicant table of given number \n",
    "a = int(input(\"enter number for multiplicant table\"))\n",
    "for i in range(0,10):\n",
    "    print(str(a) +\" \" + str(i) +\" \"+ str(a*i))"
   ]
  },
  {
   "cell_type": "code",
   "execution_count": 4,
   "id": "4cd3519b",
   "metadata": {},
   "outputs": [
    {
     "name": "stdout",
     "output_type": "stream",
     "text": [
      "hello sanket good morning\n",
      "hello sanketk good morning\n"
     ]
    }
   ],
   "source": [
    "  #write a program to greet in list which name start for s latter\n",
    "name =[\"sanket\",\"raj\",\"ravi\",\"sanketk\"]\n",
    "for item in name:\n",
    "    if item.startswith('s'):\n",
    "        print(\"hello \" + item + \" good morning\")"
   ]
  },
  {
   "cell_type": "code",
   "execution_count": 6,
   "id": "ba8d7109",
   "metadata": {},
   "outputs": [
    {
     "name": "stdout",
     "output_type": "stream",
     "text": [
      "enter the number \n",
      "46\n",
      "number is not prime\n"
     ]
    }
   ],
   "source": [
    "# number is prime or not\n",
    "prime = True\n",
    "a = int(input(\"enter the number \\n\"))\n",
    "for i in range(2,a):\n",
    "    if(a%i==0):\n",
    "        prime = False\n",
    "    break\n",
    "if prime:\n",
    "    print(\"number is  prime\")\n",
    "else:\n",
    "    print(\"number is not prime\")"
   ]
  },
  {
   "cell_type": "code",
   "execution_count": 15,
   "id": "63afd8e7",
   "metadata": {},
   "outputs": [
    {
     "name": "stdout",
     "output_type": "stream",
     "text": [
      "enter the number50\n",
      "1275\n"
     ]
    }
   ],
   "source": [
    "# find the sum of n natural number\n",
    "n = int(input(\"enter the number\"))\n",
    "sum =0\n",
    "for i in range(1,n+1):\n",
    "    sum = sum +i\n",
    "print(sum)"
   ]
  },
  {
   "cell_type": "code",
   "execution_count": 16,
   "id": "9195fb28",
   "metadata": {},
   "outputs": [
    {
     "name": "stdout",
     "output_type": "stream",
     "text": [
      "enter the number5\n",
      "1\n"
     ]
    }
   ],
   "source": [
    "# factorial number using for loop\n",
    "x=int(input(\"enter the number\"))\n",
    "fact = 1\n",
    "for i in range(n+1,1):\n",
    "    fact = fact*(n+1)\n",
    "print(fact)"
   ]
  },
  {
   "cell_type": "code",
   "execution_count": 28,
   "id": "988dc51a",
   "metadata": {},
   "outputs": [
    {
     "name": "stdout",
     "output_type": "stream",
     "text": [
      "  *  \n",
      " *** \n",
      "*****\n"
     ]
    }
   ],
   "source": [
    "n=3\n",
    "for i in range(3):\n",
    "    print(\" \"*(n-i-1),end=\"\")\n",
    "    print(\"*\"*(2*i+1),end=\"\")\n",
    "    print(\" \"*(n-i-1))"
   ]
  },
  {
   "cell_type": "code",
   "execution_count": 21,
   "id": "a21b3278",
   "metadata": {},
   "outputs": [
    {
     "name": "stdout",
     "output_type": "stream",
     "text": [
      "*\n",
      "**\n",
      "***\n",
      "****\n"
     ]
    }
   ],
   "source": [
    "n=4\n",
    "for i in range(4):\n",
    "    print(\"*\"*(i+1))"
   ]
  },
  {
   "cell_type": "code",
   "execution_count": 34,
   "id": "32b93dc2",
   "metadata": {},
   "outputs": [
    {
     "name": "stdout",
     "output_type": "stream",
     "text": [
      "enter number for table\n",
      "5\n",
      "5*10=50\n",
      "5*9=45\n",
      "5*8=40\n",
      "5*7=35\n",
      "5*6=30\n",
      "5*5=25\n",
      "5*4=20\n",
      "5*3=15\n",
      "5*2=10\n",
      "5*1=5\n"
     ]
    }
   ],
   "source": [
    "print(\"enter number for table\")\n",
    "x=int(input())\n",
    "for i in range(10,0,-1):\n",
    "    print(str(x)+\"*\"+str(i)+\"=\"+str(x*i))"
   ]
  },
  {
   "cell_type": "code",
   "execution_count": null,
   "id": "401deee1",
   "metadata": {},
   "outputs": [],
   "source": []
  }
 ],
 "metadata": {
  "kernelspec": {
   "display_name": "Python 3 (ipykernel)",
   "language": "python",
   "name": "python3"
  },
  "language_info": {
   "codemirror_mode": {
    "name": "ipython",
    "version": 3
   },
   "file_extension": ".py",
   "mimetype": "text/x-python",
   "name": "python",
   "nbconvert_exporter": "python",
   "pygments_lexer": "ipython3",
   "version": "3.11.4"
  }
 },
 "nbformat": 4,
 "nbformat_minor": 5
}
