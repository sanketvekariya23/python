{
 "cells": [
  {
   "cell_type": "code",
   "execution_count": 1,
   "id": "7f2ab80a",
   "metadata": {},
   "outputs": [],
   "source": [
    "# Pandas allows us to analyze big data and make conclusions based on statistical theories.\n",
    "\n",
    "# Pandas can clean messy data sets, and make them readable and relevant.\n",
    "\n",
    "# Relevant data is very important in data science.\n",
    "\n",
    "# how to store, use and analyze data for deriving information from it."
   ]
  },
  {
   "cell_type": "code",
   "execution_count": 5,
   "id": "099613c2",
   "metadata": {},
   "outputs": [
    {
     "name": "stdout",
     "output_type": "stream",
     "text": [
      "           car   number\n",
      "0           bmw       1\n",
      "1           i10       2\n",
      "2           i20       3\n",
      "3         swift       4\n",
      "4         verna       5\n",
      "5     mustangGT       6\n",
      "6        farari       7\n",
      "7   lembarghini       8\n",
      "8      fortunar       9\n",
      "9          thar      10\n",
      "10          KIA      11\n",
      "11        creta      12\n"
     ]
    }
   ],
   "source": [
    "import pandas as pd\n",
    "mydataset = {\n",
    "    \"car \" : [\"bmw\",\"i10\",\"i20\",\"swift\",\"verna\",\"mustangGT\",\"farari\",\"lembarghini\",\"fortunar\",\"thar\",\"KIA\",\"creta\"],\n",
    "    \"number\":[1,2,3,4,5,6,7,8,9,10,11,12] \n",
    "}\n",
    "myvar = pd.DataFrame(mydataset)\n",
    "print(myvar)"
   ]
  },
  {
   "cell_type": "code",
   "execution_count": null,
   "id": "c02aabf1",
   "metadata": {},
   "outputs": [],
   "source": []
  }
 ],
 "metadata": {
  "kernelspec": {
   "display_name": "Python 3 (ipykernel)",
   "language": "python",
   "name": "python3"
  },
  "language_info": {
   "codemirror_mode": {
    "name": "ipython",
    "version": 3
   },
   "file_extension": ".py",
   "mimetype": "text/x-python",
   "name": "python",
   "nbconvert_exporter": "python",
   "pygments_lexer": "ipython3",
   "version": "3.11.4"
  }
 },
 "nbformat": 4,
 "nbformat_minor": 5
}
