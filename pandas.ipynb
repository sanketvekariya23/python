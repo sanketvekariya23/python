{
 "cells": [
  {
   "cell_type": "code",
   "execution_count": 1,
   "id": "0bdcb29e",
   "metadata": {},
   "outputs": [],
   "source": [
    "# Pandas allows us to analyze big data and make conclusions based on statistical theories.\n",
    "\n",
    "# Pandas can clean messy data sets, and make them readable and relevant.\n",
    "\n",
    "# Relevant data is very important in data science.\n",
    "\n",
    "# how to store, use and analyze data for deriving information from it."
   ]
  },
  {
   "cell_type": "code",
   "execution_count": 5,
   "id": "863a30e9",
   "metadata": {},
   "outputs": [
    {
     "name": "stdout",
     "output_type": "stream",
     "text": [
      "           car   number\n",
      "0           bmw       1\n",
      "1           i10       2\n",
      "2           i20       3\n",
      "3         swift       4\n",
      "4         verna       5\n",
      "5     mustangGT       6\n",
      "6        farari       7\n",
      "7   lembarghini       8\n",
      "8      fortunar       9\n",
      "9          thar      10\n",
      "10          KIA      11\n",
      "11        creta      12\n"
     ]
    }
   ],
   "source": [
    "import pandas as pd\n",
    "mydataset = {\n",
    "    \"car \" : [\"bmw\",\"i10\",\"i20\",\"swift\",\"verna\",\"mustangGT\",\"farari\",\"lembarghini\",\"fortunar\",\"thar\",\"KIA\",\"creta\"],\n",
    "    \"number\":[1,2,3,4,5,6,7,8,9,10,11,12] \n",
    "}\n",
    "myvar = pd.DataFrame(mydataset)\n",
    "print(myvar)"
   ]
  },
  {
   "cell_type": "markdown",
   "id": "7c08a0e9",
   "metadata": {},
   "source": [
    "# series"
   ]
  },
  {
   "cell_type": "code",
   "execution_count": 9,
   "id": "5954a026",
   "metadata": {},
   "outputs": [
    {
     "name": "stdout",
     "output_type": "stream",
     "text": [
      "[1, 3, 4, 5, 6, 7, 11]\n"
     ]
    }
   ],
   "source": [
    "# A Pandas Series is like a column in a table.\n",
    "\n",
    "# It is a one-dimensional array holding data of any type.\n",
    "a = [1,3,4,5,6,7,11]\n",
    "myvar1 = pd.Series(a)\n",
    "print(a)"
   ]
  },
  {
   "cell_type": "code",
   "execution_count": 12,
   "id": "ec09fc53",
   "metadata": {},
   "outputs": [
    {
     "data": {
      "text/plain": [
       "1"
      ]
     },
     "execution_count": 12,
     "metadata": {},
     "output_type": "execute_result"
    }
   ],
   "source": [
    "myvar1[0]"
   ]
  },
  {
   "cell_type": "code",
   "execution_count": 17,
   "id": "681bbf2f",
   "metadata": {},
   "outputs": [
    {
     "name": "stdout",
     "output_type": "stream",
     "text": [
      "a     1\n",
      "b     3\n",
      "c     4\n",
      "d     5\n",
      "e     6\n",
      "f     7\n",
      "g    11\n",
      "dtype: int64\n"
     ]
    }
   ],
   "source": [
    "myvar2 = pd.Series(a,index=['a','b','c','d','e','f','g'])\n",
    "print(myvar2)"
   ]
  },
  {
   "cell_type": "code",
   "execution_count": 18,
   "id": "f14c62c1",
   "metadata": {},
   "outputs": [
    {
     "data": {
      "text/plain": [
       "1"
      ]
     },
     "execution_count": 18,
     "metadata": {},
     "output_type": "execute_result"
    }
   ],
   "source": [
    "myvar2['a']"
   ]
  },
  {
   "cell_type": "code",
   "execution_count": 20,
   "id": "92d59a36",
   "metadata": {},
   "outputs": [
    {
     "data": {
      "text/plain": [
       "11"
      ]
     },
     "execution_count": 20,
     "metadata": {},
     "output_type": "execute_result"
    }
   ],
   "source": [
    "myvar2['g']"
   ]
  },
  {
   "cell_type": "code",
   "execution_count": 21,
   "id": "c59bac16",
   "metadata": {},
   "outputs": [],
   "source": [
    "mydataset = {\n",
    "    \"days\" :[\"day1\",'day2',\"day3\"],\n",
    "    \"calories\" :[500,550,4220]\n",
    "}\n",
    "myvar4=pd.DataFrame(mydataset)"
   ]
  },
  {
   "cell_type": "code",
   "execution_count": 22,
   "id": "70fc2c89",
   "metadata": {},
   "outputs": [
    {
     "data": {
      "text/html": [
       "<div>\n",
       "<style scoped>\n",
       "    .dataframe tbody tr th:only-of-type {\n",
       "        vertical-align: middle;\n",
       "    }\n",
       "\n",
       "    .dataframe tbody tr th {\n",
       "        vertical-align: top;\n",
       "    }\n",
       "\n",
       "    .dataframe thead th {\n",
       "        text-align: right;\n",
       "    }\n",
       "</style>\n",
       "<table border=\"1\" class=\"dataframe\">\n",
       "  <thead>\n",
       "    <tr style=\"text-align: right;\">\n",
       "      <th></th>\n",
       "      <th>days</th>\n",
       "      <th>calories</th>\n",
       "    </tr>\n",
       "  </thead>\n",
       "  <tbody>\n",
       "    <tr>\n",
       "      <th>0</th>\n",
       "      <td>day1</td>\n",
       "      <td>500</td>\n",
       "    </tr>\n",
       "    <tr>\n",
       "      <th>1</th>\n",
       "      <td>day2</td>\n",
       "      <td>550</td>\n",
       "    </tr>\n",
       "    <tr>\n",
       "      <th>2</th>\n",
       "      <td>day3</td>\n",
       "      <td>4220</td>\n",
       "    </tr>\n",
       "  </tbody>\n",
       "</table>\n",
       "</div>"
      ],
      "text/plain": [
       "   days  calories\n",
       "0  day1       500\n",
       "1  day2       550\n",
       "2  day3      4220"
      ]
     },
     "execution_count": 22,
     "metadata": {},
     "output_type": "execute_result"
    }
   ],
   "source": [
    "myvar4"
   ]
  },
  {
   "cell_type": "code",
   "execution_count": 23,
   "id": "5147c047",
   "metadata": {},
   "outputs": [
    {
     "name": "stdout",
     "output_type": "stream",
     "text": [
      "   days  calories\n",
      "0  day1       500\n",
      "1  day2       550\n",
      "2  day3      4220\n"
     ]
    }
   ],
   "source": [
    "print(myvar4)"
   ]
  },
  {
   "cell_type": "code",
   "execution_count": 28,
   "id": "9a5ba1d3",
   "metadata": {},
   "outputs": [
    {
     "data": {
      "text/plain": [
       "day1    450\n",
       "day2    550\n",
       "day3    500\n",
       "dtype: int64"
      ]
     },
     "execution_count": 28,
     "metadata": {},
     "output_type": "execute_result"
    }
   ],
   "source": [
    "mydataset = {\"day1\":450,\"day2\":550,\"day3\":500}\n",
    "myvar5=pd.Series(mydataset,index=[\"day1\",\"day2\",\"day3\"])\n",
    "myvar5"
   ]
  },
  {
   "cell_type": "code",
   "execution_count": 30,
   "id": "59cca2e5",
   "metadata": {},
   "outputs": [
    {
     "data": {
      "text/plain": [
       "550"
      ]
     },
     "execution_count": 30,
     "metadata": {},
     "output_type": "execute_result"
    }
   ],
   "source": [
    "myvar5[\"day2\"]"
   ]
  },
  {
   "cell_type": "code",
   "execution_count": 32,
   "id": "b22cfcfa",
   "metadata": {},
   "outputs": [
    {
     "name": "stdout",
     "output_type": "stream",
     "text": [
      "days        day1\n",
      "calories     500\n",
      "Name: 0, dtype: object\n"
     ]
    }
   ],
   "source": [
    "print(myvar4.loc[0])    # for row and column refer to row index"
   ]
  },
  {
   "cell_type": "code",
   "execution_count": null,
   "id": "201cb0e9",
   "metadata": {},
   "outputs": [],
   "source": []
  }
 ],
 "metadata": {
  "kernelspec": {
   "display_name": "Python 3 (ipykernel)",
   "language": "python",
   "name": "python3"
  },
  "language_info": {
   "codemirror_mode": {
    "name": "ipython",
    "version": 3
   },
   "file_extension": ".py",
   "mimetype": "text/x-python",
   "name": "python",
   "nbconvert_exporter": "python",
   "pygments_lexer": "ipython3",
   "version": "3.11.4"
  }
 },
 "nbformat": 4,
 "nbformat_minor": 5
}
