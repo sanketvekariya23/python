{
 "cells": [
  {
   "cell_type": "code",
   "execution_count": 3,
   "id": "88f0197c",
   "metadata": {},
   "outputs": [
    {
     "data": {
      "text/plain": [
       "[1, 'sanket', 'raj', 33.14, 'ravi']"
      ]
     },
     "execution_count": 3,
     "metadata": {},
     "output_type": "execute_result"
    }
   ],
   "source": [
    "#list is order collection of an elements in closed within []\n",
    "#list is mutable\n",
    "list = [1,\"sanket\",\"urvish\",33.14]\n",
    "list.append(\"ravi\")\n",
    "list\n",
    "list.insert(2,\"raj\")\n",
    "list\n",
    "list.pop(3)\n",
    "list"
   ]
  },
  {
   "cell_type": "code",
   "execution_count": 4,
   "id": "b091bd6e",
   "metadata": {},
   "outputs": [
    {
     "data": {
      "text/plain": [
       "1"
      ]
     },
     "execution_count": 4,
     "metadata": {},
     "output_type": "execute_result"
    }
   ],
   "source": [
    "list[0]\n"
   ]
  },
  {
   "cell_type": "code",
   "execution_count": 5,
   "id": "43837b32",
   "metadata": {
    "scrolled": true
   },
   "outputs": [
    {
     "data": {
      "text/plain": [
       "['sanket', 'raj', 33.14, 'ravi']"
      ]
     },
     "execution_count": 5,
     "metadata": {},
     "output_type": "execute_result"
    }
   ],
   "source": [
    "list[1:5]"
   ]
  },
  {
   "cell_type": "code",
   "execution_count": 8,
   "id": "2da96f29",
   "metadata": {},
   "outputs": [
    {
     "data": {
      "text/plain": [
       "['akshay', 'sanket', 'raj', 33.14, 'ravi']"
      ]
     },
     "execution_count": 8,
     "metadata": {},
     "output_type": "execute_result"
    }
   ],
   "source": [
    "list[0]  =  \"akshay\"\n",
    "list"
   ]
  },
  {
   "cell_type": "code",
   "execution_count": 11,
   "id": "318d339e",
   "metadata": {},
   "outputs": [
    {
     "data": {
      "text/plain": [
       "['dhruv', 'kartik', 'raj', 'ravi', 'rushil', 'sanket', 'yash']"
      ]
     },
     "execution_count": 11,
     "metadata": {},
     "output_type": "execute_result"
    }
   ],
   "source": [
    "list1 = [\"sanket\",\"ravi\",\"raj\",\"rushil\",\"kartik\",\"dhruv\",\"yash\"]\n",
    "list1.sort()        #when list is contain same datatype of all elemetns\n",
    "list1"
   ]
  },
  {
   "cell_type": "code",
   "execution_count": 14,
   "id": "847883c0",
   "metadata": {},
   "outputs": [
    {
     "data": {
      "text/plain": [
       "['akshay',\n",
       " 'raj',\n",
       " 'sanket',\n",
       " 33.14,\n",
       " 'ravi',\n",
       " 'akshay',\n",
       " 'raj',\n",
       " 'sanket',\n",
       " 33.14,\n",
       " 'ravi',\n",
       " 'akshay',\n",
       " 'raj',\n",
       " 'sanket',\n",
       " 33.14,\n",
       " 'ravi',\n",
       " 'akshay',\n",
       " 'raj',\n",
       " 'sanket',\n",
       " 33.14,\n",
       " 'ravi',\n",
       " 'akshay',\n",
       " 'raj',\n",
       " 'sanket',\n",
       " 33.14,\n",
       " 'ravi',\n",
       " 'dhruv',\n",
       " 'kartik',\n",
       " 'raj',\n",
       " 'ravi',\n",
       " 'rushil',\n",
       " 'sanket',\n",
       " 'yash']"
      ]
     },
     "execution_count": 14,
     "metadata": {},
     "output_type": "execute_result"
    }
   ],
   "source": [
    "list *5 + list1"
   ]
  },
  {
   "cell_type": "code",
   "execution_count": 16,
   "id": "ca4fc5bb",
   "metadata": {},
   "outputs": [
    {
     "name": "stdout",
     "output_type": "stream",
     "text": [
      "enter fruit name\n",
      "apple\n",
      "banana\n",
      "orange\n",
      "pineapple\n",
      "watermalonw\n",
      "kivi\n",
      "olive\n",
      "['apple', 'banana', 'orange', 'pineapple', 'watermalonw', 'kivi', 'olive']\n"
     ]
    }
   ],
   "source": [
    "#write python program to enter seven fruit name in tuple ented by the user.\n",
    "l1 = []\n",
    "print(\"enter fruit name\")\n",
    "f1 = input()\n",
    "f2 = input()\n",
    "f3 = input()\n",
    "f4 = input()\n",
    "f5 = input()\n",
    "f6 = input()\n",
    "f7 = input()\n",
    "l1.append(f1)\n",
    "l1.append(f2)\n",
    "l1.append(f3)\n",
    "l1.append(f4)\n",
    "l1.append(f5)\n",
    "l1.append(f6)\n",
    "l1.append(f7)\n",
    "print(l1)"
   ]
  },
  {
   "cell_type": "code",
   "execution_count": 21,
   "id": "829832d3",
   "metadata": {},
   "outputs": [
    {
     "name": "stdout",
     "output_type": "stream",
     "text": [
      "[16, 27, 49, 60, 91, 102, 49]\n"
     ]
    }
   ],
   "source": [
    "# write a program to a sum a list with 4\n",
    "list1 = [12,23,45,56,87,98,45]\n",
    "list1[0] = list1[0]+4\n",
    "list1[1] = list1[1]+4\n",
    "list1[2] = list1[2]+4\n",
    "list1[3] = list1[3]+4\n",
    "list1[4] = list1[4]+4\n",
    "list1[5] = list1[5]+4\n",
    "list1[6] = list1[6]+4\n",
    "print(list1)"
   ]
  },
  {
   "cell_type": "code",
   "execution_count": 15,
   "id": "34265b49",
   "metadata": {},
   "outputs": [
    {
     "name": "stdout",
     "output_type": "stream",
     "text": [
      "[1, 3, 5, 7, 8]\n"
     ]
    }
   ],
   "source": [
    "#  remove duplicats from list\n",
    "\n",
    "l=[3,1,7,8,5,5,7,1]\n",
    "\n",
    "uniqu_list = set(l)\n",
    "uniqu_list2= list(uniqu_list)\n",
    "print(uniqu_list2)"
   ]
  },
  {
   "cell_type": "code",
   "execution_count": 20,
   "id": "7e94e2db",
   "metadata": {},
   "outputs": [
    {
     "name": "stdout",
     "output_type": "stream",
     "text": [
      "[1, 2, 3, 4, 7, 8, 9, 17]\n"
     ]
    }
   ],
   "source": [
    "l = [1,1,2,3,3,7,8,8,2,9,9,4,2,2,17,3,7]\n",
    "key = list(set(l))\n",
    "print(key)"
   ]
  },
  {
   "cell_type": "code",
   "execution_count": 25,
   "id": "2ba34799",
   "metadata": {},
   "outputs": [
    {
     "name": "stdout",
     "output_type": "stream",
     "text": [
      "{1: 5, 3: 3, 5: 4, 4: 4, 8: 2, 2: 2, 9: 1, 10: 1}\n"
     ]
    }
   ],
   "source": [
    "l =[1,1,1,1,1,3,5,5,5,4,4,4,8,2,2,3,3,4,5,8,9,10]\n",
    "dic={}\n",
    "\n",
    "for i in l:\n",
    "    if i in dic:\n",
    "        dic[i] +=1\n",
    "    else:\n",
    "        dic[i] = 1\n",
    "        \n",
    "        \n",
    "print(dic)"
   ]
  },
  {
   "cell_type": "code",
   "execution_count": 33,
   "id": "fd16b98d",
   "metadata": {},
   "outputs": [
    {
     "name": "stdout",
     "output_type": "stream",
     "text": [
      "19\n"
     ]
    }
   ],
   "source": [
    " l = [1,2,3,4,5,6,7,8,9,10,19]\n",
    "    \n",
    "max = l[0]\n",
    "\n",
    "for i in l:\n",
    "    if max < i:\n",
    "        max = i\n",
    "print(max)"
   ]
  },
  {
   "cell_type": "code",
   "execution_count": null,
   "id": "00be377f",
   "metadata": {},
   "outputs": [],
   "source": []
  }
 ],
 "metadata": {
  "kernelspec": {
   "display_name": "Python 3 (ipykernel)",
   "language": "python",
   "name": "python3"
  },
  "language_info": {
   "codemirror_mode": {
    "name": "ipython",
    "version": 3
   },
   "file_extension": ".py",
   "mimetype": "text/x-python",
   "name": "python",
   "nbconvert_exporter": "python",
   "pygments_lexer": "ipython3",
   "version": "3.11.4"
  }
 },
 "nbformat": 4,
 "nbformat_minor": 5
}
