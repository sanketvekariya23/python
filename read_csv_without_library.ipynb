{
 "cells": [
  {
   "cell_type": "code",
   "execution_count": 5,
   "id": "446f9a7b",
   "metadata": {},
   "outputs": [
    {
     "name": "stdout",
     "output_type": "stream",
     "text": [
      "student name =  sanket enrollment number =  7008 cpi =  9.3\n",
      "\n",
      "student name =  raj enrollment number =  7009 cpi =  9.8\n",
      "\n",
      "student name =  ravi enrollment number =  7010 cpi =  9.6\n",
      "\n",
      "student name =  rushil enrollment number =  7011 cpi =  9.6\n",
      "\n"
     ]
    }
   ],
   "source": [
    "with open('book1.csv',\"r\") as f:\n",
    "    data = f.readlines()\n",
    "    Isfirstline = True\n",
    "    for d in data:\n",
    "        if Isfirstline:\n",
    "            Isfirstline = False\n",
    "            continue\n",
    "        cols = d.split(\",\")\n",
    "        print(\"student name = \",cols[0],end=\" \")\n",
    "        print(\"enrollment number = \",cols[1],end=\" \")\n",
    "        print(\"cpi = \",cols[2])"
   ]
  },
  {
   "cell_type": "code",
   "execution_count": null,
   "id": "3a00a2ae",
   "metadata": {},
   "outputs": [],
   "source": []
  }
 ],
 "metadata": {
  "kernelspec": {
   "display_name": "Python 3 (ipykernel)",
   "language": "python",
   "name": "python3"
  },
  "language_info": {
   "codemirror_mode": {
    "name": "ipython",
    "version": 3
   },
   "file_extension": ".py",
   "mimetype": "text/x-python",
   "name": "python",
   "nbconvert_exporter": "python",
   "pygments_lexer": "ipython3",
   "version": "3.11.4"
  }
 },
 "nbformat": 4,
 "nbformat_minor": 5
}
