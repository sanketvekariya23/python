{
 "cells": [
  {
   "cell_type": "code",
   "execution_count": 13,
   "id": "d9825183",
   "metadata": {},
   "outputs": [
    {
     "name": "stdout",
     "output_type": "stream",
     "text": [
      "0\n",
      "1\n",
      "2\n",
      "3\n",
      "4\n",
      "5\n",
      "6\n",
      "7\n",
      "8\n",
      "9\n"
     ]
    }
   ],
   "source": [
    "# loops \n",
    "# while loop\n",
    "\n",
    "i=0\n",
    "while i<10:\n",
    "    print(i)\n",
    "    i=i+1"
   ]
  },
  {
   "cell_type": "code",
   "execution_count": null,
   "id": "3ea4243c",
   "metadata": {},
   "outputs": [],
   "source": [
    "# for loop\n",
    "#for loop is used to itrate element or list\n",
    "list = [\"kaushik\",\"sanket\",\"akshay\",\"umesh\"]\n",
    "i = 0\n",
    "while i<=len(list):\n",
    "    print(i)\n",
    "    i++"
   ]
  }
 ],
 "metadata": {
  "kernelspec": {
   "display_name": "Python 3 (ipykernel)",
   "language": "python",
   "name": "python3"
  },
  "language_info": {
   "codemirror_mode": {
    "name": "ipython",
    "version": 3
   },
   "file_extension": ".py",
   "mimetype": "text/x-python",
   "name": "python",
   "nbconvert_exporter": "python",
   "pygments_lexer": "ipython3",
   "version": "3.11.4"
  }
 },
 "nbformat": 4,
 "nbformat_minor": 5
}
