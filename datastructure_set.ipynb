{
 "cells": [
  {
   "cell_type": "code",
   "execution_count": 22,
   "id": "77b1b5ef",
   "metadata": {},
   "outputs": [
    {
     "data": {
      "text/plain": [
       "{2, 3, 4, 5, 6, 9, 11, 78}"
      ]
     },
     "execution_count": 22,
     "metadata": {},
     "output_type": "execute_result"
    }
   ],
   "source": [
    "set = {11,11,2,3,4,5,6,78,9}\n",
    "set"
   ]
  },
  {
   "cell_type": "code",
   "execution_count": 23,
   "id": "d2d18797",
   "metadata": {},
   "outputs": [
    {
     "data": {
      "text/plain": [
       "set"
      ]
     },
     "execution_count": 23,
     "metadata": {},
     "output_type": "execute_result"
    }
   ],
   "source": [
    "type(set)"
   ]
  },
  {
   "cell_type": "code",
   "execution_count": 24,
   "id": "71c71b9f",
   "metadata": {},
   "outputs": [
    {
     "data": {
      "text/plain": [
       "{2, 3, 4, 5, 6, 9, 11, 78}"
      ]
     },
     "execution_count": 24,
     "metadata": {},
     "output_type": "execute_result"
    }
   ],
   "source": [
    "set.add(2)\n",
    "set"
   ]
  },
  {
   "cell_type": "code",
   "execution_count": 25,
   "id": "075b26ed",
   "metadata": {},
   "outputs": [
    {
     "data": {
      "text/plain": [
       "{2, 3, 4, 5, 6, 9, 11, 78, 100, 10000}"
      ]
     },
     "execution_count": 25,
     "metadata": {},
     "output_type": "execute_result"
    }
   ],
   "source": [
    "set.add(100)\n",
    "set.add(10000)        #it add at random index ,unorder\n",
    "set               "
   ]
  },
  {
   "cell_type": "code",
   "execution_count": 27,
   "id": "27ddbdbd",
   "metadata": {},
   "outputs": [
    {
     "data": {
      "text/plain": [
       "{2, 3, 4, 5, 6, 9, 11, 78, 10000}"
      ]
     },
     "execution_count": 27,
     "metadata": {},
     "output_type": "execute_result"
    }
   ],
   "source": [
    "set.remove(100)\n",
    "set"
   ]
  },
  {
   "cell_type": "code",
   "execution_count": 33,
   "id": "c3218121",
   "metadata": {},
   "outputs": [
    {
     "data": {
      "text/plain": [
       "9"
      ]
     },
     "execution_count": 33,
     "metadata": {},
     "output_type": "execute_result"
    }
   ],
   "source": [
    "len(set)"
   ]
  },
  {
   "cell_type": "code",
   "execution_count": 34,
   "id": "e2853664",
   "metadata": {},
   "outputs": [
    {
     "data": {
      "text/plain": [
       "{(5, 99, 98), 10000, 11, 2, 3, 4, 5, 6, 78, 9}"
      ]
     },
     "execution_count": 34,
     "metadata": {},
     "output_type": "execute_result"
    }
   ],
   "source": [
    "set.add((5,99,98))\n",
    "set"
   ]
  },
  {
   "cell_type": "code",
   "execution_count": 38,
   "id": "a1049c17",
   "metadata": {},
   "outputs": [
    {
     "data": {
      "text/plain": [
       "2"
      ]
     },
     "execution_count": 38,
     "metadata": {},
     "output_type": "execute_result"
    }
   ],
   "source": [
    "#question :1\n",
    "s={20,20.0,\"20\"}       #20 and 20.0 count as one!\n",
    "len(s)"
   ]
  }
 ],
 "metadata": {
  "kernelspec": {
   "display_name": "Python 3 (ipykernel)",
   "language": "python",
   "name": "python3"
  },
  "language_info": {
   "codemirror_mode": {
    "name": "ipython",
    "version": 3
   },
   "file_extension": ".py",
   "mimetype": "text/x-python",
   "name": "python",
   "nbconvert_exporter": "python",
   "pygments_lexer": "ipython3",
   "version": "3.11.4"
  }
 },
 "nbformat": 4,
 "nbformat_minor": 5
}
