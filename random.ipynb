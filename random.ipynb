{
 "cells": [
  {
   "cell_type": "code",
   "execution_count": 1,
   "id": "7b6a0e35",
   "metadata": {},
   "outputs": [
    {
     "name": "stdout",
     "output_type": "stream",
     "text": [
      "[['ravi' 'rushil' 'ravi']\n",
      " ['rushil' 'druv' 'raj']\n",
      " ['druv' 'ravi' 'druv']]\n"
     ]
    }
   ],
   "source": [
    "import numpy as np\n",
    "mylist = [\"sanket\",\"ravi\",\"raj\",\"rushil\",\"druv\"]\n",
    "p = np.random.choice(mylist,size=(3,3))\n",
    "print(p)"
   ]
  },
  {
   "cell_type": "code",
   "execution_count": 2,
   "id": "070408c8",
   "metadata": {},
   "outputs": [
    {
     "name": "stdout",
     "output_type": "stream",
     "text": [
      "[['sanket' 'sanket' 'sanket']\n",
      " ['sanket' 'sanket' 'sanket']\n",
      " ['sanket' 'sanket' 'sanket']]\n"
     ]
    }
   ],
   "source": [
    "import numpy as np\n",
    "mylist = [\"sanket\",\"ravi\",\"raj\",\"rushil\",\"druv\"]\n",
    "p = np.random.choice(mylist,size=(3,3),p=[1,0,0,0,0])\n",
    "print(p)"
   ]
  },
  {
   "cell_type": "code",
   "execution_count": 5,
   "id": "5097cf06",
   "metadata": {},
   "outputs": [
    {
     "name": "stdout",
     "output_type": "stream",
     "text": [
      "[['ravi' 'ravi' 'rushil']\n",
      " ['ravi' 'raj' 'raj']\n",
      " ['ravi' 'ravi' 'ravi']]\n"
     ]
    }
   ],
   "source": [
    "import numpy as np\n",
    "mylist = [\"sanket\",\"ravi\",\"raj\",\"rushil\",\"druv\"]\n",
    "p = np.random.choice(mylist,size=(3,3),p=[0.0,0.5,0.3,0.2,0.0])\n",
    "print(p)"
   ]
  },
  {
   "cell_type": "code",
   "execution_count": null,
   "id": "b78eacca",
   "metadata": {},
   "outputs": [],
   "source": [
    "# probability should not greterthan one 0.5+0.3+0.2 = 1"
   ]
  }
 ],
 "metadata": {
  "kernelspec": {
   "display_name": "Python 3 (ipykernel)",
   "language": "python",
   "name": "python3"
  },
  "language_info": {
   "codemirror_mode": {
    "name": "ipython",
    "version": 3
   },
   "file_extension": ".py",
   "mimetype": "text/x-python",
   "name": "python",
   "nbconvert_exporter": "python",
   "pygments_lexer": "ipython3",
   "version": "3.11.4"
  }
 },
 "nbformat": 4,
 "nbformat_minor": 5
}
