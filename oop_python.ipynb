{
 "cells": [
  {
   "cell_type": "code",
   "execution_count": 1,
   "id": "98546133",
   "metadata": {},
   "outputs": [],
   "source": [
    "# oop is define as a solve problem as around of data or real world entity\n",
    "# class :\n",
    "#     class is blueprint of instanceance \n",
    "#     when class create memory is not allocate\n",
    "#     memory allocate after object is create\n",
    "#     class is use to reuse data or reduce data\n",
    "# object:\n",
    "#     object is instanceace of class\n",
    "    \n",
    "#     \"objetct of the class is invoke the methods avalible to witout reveling implemetation details\"\n",
    "#                                                                                         -- encapsulation & abstraction"
   ]
  },
  {
   "cell_type": "code",
   "execution_count": 5,
   "id": "813ce859",
   "metadata": {},
   "outputs": [
    {
     "name": "stdout",
     "output_type": "stream",
     "text": [
      "name is sanket\n",
      "train name israjdhani express\n"
     ]
    }
   ],
   "source": [
    "class railwayform:\n",
    "    def printdata(self):\n",
    "        print(f\"name is {self.name}\")\n",
    "        print(f\"train name is {self.Tname}\")\n",
    "        \n",
    "sanketapplication = railwayform()           #creating object ->object name is sanketapplication\n",
    "sanketapplication.name = \"sanket\"\n",
    "sanketapplication.Tname = \"rajdhani express\"\n",
    "sanketapplication.printdata()"
   ]
  },
  {
   "cell_type": "code",
   "execution_count": null,
   "id": "e95a1d32",
   "metadata": {},
   "outputs": [],
   "source": []
  }
 ],
 "metadata": {
  "kernelspec": {
   "display_name": "Python 3 (ipykernel)",
   "language": "python",
   "name": "python3"
  },
  "language_info": {
   "codemirror_mode": {
    "name": "ipython",
    "version": 3
   },
   "file_extension": ".py",
   "mimetype": "text/x-python",
   "name": "python",
   "nbconvert_exporter": "python",
   "pygments_lexer": "ipython3",
   "version": "3.11.4"
  }
 },
 "nbformat": 4,
 "nbformat_minor": 5
}
