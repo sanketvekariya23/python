{
 "cells": [
  {
   "cell_type": "code",
   "execution_count": 3,
   "id": "556ef6b1",
   "metadata": {},
   "outputs": [
    {
     "name": "stdout",
     "output_type": "stream",
     "text": [
      "enter four number\n",
      "555\n",
      "963\n",
      "56\n",
      "3\n",
      "963 is gretest\n"
     ]
    }
   ],
   "source": [
    "print(\"enter four number\")\n",
    "a=int(input())\n",
    "b=int(input())\n",
    "c=int(input())\n",
    "d=int(input())\n",
    "if a>b and a>c and a>d:\n",
    "    print(str(a) +\" is gretest\")\n",
    "elif b>c and b>d:\n",
    "        print(str(b)+\" is gretest\")\n",
    "elif c>d:\n",
    "            print(str(c)+\" is gretest\")\n",
    "else:\n",
    "    print(str(d)+\" is gretest\")"
   ]
  },
  {
   "cell_type": "code",
   "execution_count": 6,
   "id": "77cd7d5f",
   "metadata": {},
   "outputs": [
    {
     "name": "stdout",
     "output_type": "stream",
     "text": [
      "enter physics chemistry and maths marks\n",
      "9\n",
      "96\n",
      "32\n",
      "you are fail\n"
     ]
    }
   ],
   "source": [
    "print(\"enter physics chemistry and maths marks\")\n",
    "physics = int(input())\n",
    "chemistry = int(input())\n",
    "maths = int(input())\n",
    "avg = (physics+chemistry+maths)/3\n",
    "if(physics<33 or chemistry<33 or maths<33):\n",
    "    print(\"you are fail\")\n",
    "elif avg<40 :\n",
    "    print(\"you are  fail\")\n",
    "else:\n",
    "    print(\"you are pass\")\n"
   ]
  },
  {
   "cell_type": "code",
   "execution_count": 14,
   "id": "720bb413",
   "metadata": {},
   "outputs": [
    {
     "name": "stdout",
     "output_type": "stream",
     "text": [
      "enter the comment\n",
      "buy now to make money\n",
      "this comment is spam\n"
     ]
    }
   ],
   "source": [
    "txt = input(\"enter the comment\\n\")\n",
    "if(\"make a lote money\" in txt):\n",
    "    spam = True\n",
    "elif(\"buy now\" in txt):\n",
    "    spam = True\n",
    "elif(\"subscribe this\" in txt):\n",
    "    spam = True\n",
    "elif(\"click this and make money\" in txt):\n",
    "    spam = True\n",
    "else:\n",
    "    spam = False\n",
    "    \n",
    "if(spam):\n",
    "    print(\"this comment is spam\")\n",
    "else:\n",
    "    print(\"this is not spam\")\n",
    "    "
   ]
  },
  {
   "cell_type": "code",
   "execution_count": 16,
   "id": "78fae8f2",
   "metadata": {},
   "outputs": [
    {
     "name": "stdout",
     "output_type": "stream",
     "text": [
      "enter usernamesanketvekariya237@gmail.com\n",
      "not valid\n"
     ]
    }
   ],
   "source": [
    "name = input(\"enter username\")\n",
    "if len(name)>10:\n",
    "    print(\"not valid\")\n",
    "else:\n",
    "    print(\"username is valid\")"
   ]
  },
  {
   "cell_type": "code",
   "execution_count": 22,
   "id": "3b5f59aa",
   "metadata": {},
   "outputs": [
    {
     "name": "stdout",
     "output_type": "stream",
     "text": [
      "enter the name\n",
      "sanket\n",
      "present\n"
     ]
    }
   ],
   "source": [
    "list = [\"sanket\",\"vishal\",\"manthan\",\"aayushchina\"]\n",
    "print(\"enter the name\")\n",
    "name = input()\n",
    "if name in list:\n",
    "    print(\"present\")\n",
    "else:\n",
    "    print(\"not present\")\n",
    "    "
   ]
  },
  {
   "cell_type": "code",
   "execution_count": 27,
   "id": "8124d078",
   "metadata": {},
   "outputs": [
    {
     "name": "stdout",
     "output_type": "stream",
     "text": [
      "enter marks\n",
      "93\n",
      "excellent grate\n"
     ]
    }
   ],
   "source": [
    "print(\"enter marks\")\n",
    "marks = int(input())\n",
    "if marks<50:\n",
    "    print(\"fail\")\n",
    "elif marks>=50 and marks<60:\n",
    "    print(\"d grate\")\n",
    "elif marks>=60 and marks<70:\n",
    "    print(\"c grate\")\n",
    "elif marks>=70 and marks<80:\n",
    "    print(\"b grate\")\n",
    "elif marks>=80 and marks<90:\n",
    "    print(\"a grate\")\n",
    "elif marks>=90:\n",
    "    print(\"excellent grate\")\n",
    "else:\n",
    "    print(\"enter a valid \")\n"
   ]
  },
  {
   "cell_type": "code",
   "execution_count": null,
   "id": "7b4afaf0",
   "metadata": {},
   "outputs": [],
   "source": []
  }
 ],
 "metadata": {
  "kernelspec": {
   "display_name": "Python 3 (ipykernel)",
   "language": "python",
   "name": "python3"
  },
  "language_info": {
   "codemirror_mode": {
    "name": "ipython",
    "version": 3
   },
   "file_extension": ".py",
   "mimetype": "text/x-python",
   "name": "python",
   "nbconvert_exporter": "python",
   "pygments_lexer": "ipython3",
   "version": "3.11.4"
  }
 },
 "nbformat": 4,
 "nbformat_minor": 5
}
