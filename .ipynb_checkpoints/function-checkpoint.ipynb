{
 "cells": [
  {
   "cell_type": "code",
   "execution_count": 3,
   "id": "00d66630",
   "metadata": {},
   "outputs": [
    {
     "name": "stdout",
     "output_type": "stream",
     "text": [
      "enter namesanket\n",
      "good morning sanket\n"
     ]
    }
   ],
   "source": [
    "def greet(name):\n",
    "    print(\"good morning \" +name)\n",
    "    \n",
    "\n",
    "name = input(\"enter name\")\n",
    "greet(name)                    # function call with argument without return value"
   ]
  },
  {
   "cell_type": "code",
   "execution_count": 4,
   "id": "35f04aa5",
   "metadata": {},
   "outputs": [
    {
     "data": {
      "text/plain": [
       "100.0"
      ]
     },
     "execution_count": 4,
     "metadata": {},
     "output_type": "execute_result"
    }
   ],
   "source": [
    "def sum(num1,num2):\n",
    "    return (num1+num2)/2\n",
    "\n",
    "x = 50\n",
    "x1 = 150\n",
    "sum(x,x1)             #function with return value"
   ]
  },
  {
   "cell_type": "code",
   "execution_count": 5,
   "id": "4a9301ae",
   "metadata": {},
   "outputs": [],
   "source": [
    "# function : function is set of instruction which is perform specific task\n",
    "    \n",
    "#     two type of function in python \n",
    "    \n",
    "#     user define function-> sum(),greeting(), etc...\n",
    "#     builtin function ->print(),input(),etc....\n",
    "    \n",
    "    \n",
    "# defualt parameter value\n",
    "# we can have value as s defualt parameter if we are not passing value is take defualt value other wise it take passing value"
   ]
  },
  {
   "cell_type": "code",
   "execution_count": 7,
   "id": "87bcd568",
   "metadata": {},
   "outputs": [
    {
     "name": "stdout",
     "output_type": "stream",
     "text": [
      "good afternoon sanket\n"
     ]
    }
   ],
   "source": [
    "def greet(name=\"sanket\"):               #defualt value is sanket\n",
    "    print(\"good afternoon \" + name)\n",
    "    \n",
    "greet()"
   ]
  },
  {
   "cell_type": "code",
   "execution_count": 9,
   "id": "8138faf1",
   "metadata": {},
   "outputs": [
    {
     "name": "stdout",
     "output_type": "stream",
     "text": [
      "good afternoon uttam\n"
     ]
    }
   ],
   "source": [
    "greet(\"uttam\")        #if we have pass value than it take specific that value otherwise defualt"
   ]
  },
  {
   "cell_type": "code",
   "execution_count": 11,
   "id": "108c5a76",
   "metadata": {},
   "outputs": [
    {
     "name": "stdout",
     "output_type": "stream",
     "text": [
      "enter first number99\n",
      "enter second number98\n",
      "enter third number9\n",
      "99  is a gretest\n"
     ]
    }
   ],
   "source": [
    "#question:1\n",
    "#find gretest of three number\n",
    "\n",
    "def gretest_number(a,b,c):\n",
    "    if a>b or a>c:\n",
    "        print(str(a)+ \"  is a gretest\")\n",
    "    elif b>c:\n",
    "         print(str(b)+ \"  is a gretest\")\n",
    "    else:\n",
    "         print(str(c)+ \"  is a gretest\")\n",
    "            \n",
    "x=int(input(\"enter first number\"))\n",
    "y=int(input(\"enter second number\"))\n",
    "z=int(input(\"enter third number\"))\n",
    "gretest_number(x,y,z)"
   ]
  },
  {
   "cell_type": "code",
   "execution_count": 12,
   "id": "d279a64d",
   "metadata": {},
   "outputs": [],
   "source": [
    "#question : 2 \n",
    "# write python program to convert celsius to fehrenhit"
   ]
  },
  {
   "cell_type": "code",
   "execution_count": 17,
   "id": "35d8f31c",
   "metadata": {},
   "outputs": [
    {
     "name": "stdout",
     "output_type": "stream",
     "text": [
      "enter number\n",
      "5\n",
      "15\n"
     ]
    }
   ],
   "source": [
    "#question:3 \n",
    "#write a python program to sum of n natural number\n",
    "def sum_natural(x):\n",
    "    sum =0\n",
    "    i=1\n",
    "    for i in range(x+1):\n",
    "        sum = sum +i\n",
    "    return sum\n",
    "print(\"enter number\")\n",
    "y1=int(input())\n",
    "s=sum_natural(y1)\n",
    "print(s)"
   ]
  },
  {
   "cell_type": "code",
   "execution_count": null,
   "id": "4e33f6da",
   "metadata": {},
   "outputs": [],
   "source": []
  }
 ],
 "metadata": {
  "kernelspec": {
   "display_name": "Python 3 (ipykernel)",
   "language": "python",
   "name": "python3"
  },
  "language_info": {
   "codemirror_mode": {
    "name": "ipython",
    "version": 3
   },
   "file_extension": ".py",
   "mimetype": "text/x-python",
   "name": "python",
   "nbconvert_exporter": "python",
   "pygments_lexer": "ipython3",
   "version": "3.11.4"
  }
 },
 "nbformat": 4,
 "nbformat_minor": 5
}
