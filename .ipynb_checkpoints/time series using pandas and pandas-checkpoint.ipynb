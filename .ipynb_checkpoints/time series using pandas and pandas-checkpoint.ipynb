{
 "cells": [
  {
   "cell_type": "code",
   "execution_count": 6,
   "id": "2371968e",
   "metadata": {},
   "outputs": [
    {
     "name": "stdout",
     "output_type": "stream",
     "text": [
      "2023-03-27    50\n",
      "2023-03-28    36\n",
      "2023-03-29     8\n",
      "2023-03-30    99\n",
      "2023-03-31     5\n",
      "dtype: int64\n"
     ]
    }
   ],
   "source": [
    "import pandas as pd\n",
    "import numpy as np\n",
    "dates = pd.to_datetime(\"27th of march, 2023\")\n",
    "i = dates + pd.to_timedelta(np.arange(5),unit = 'D')\n",
    "d = [50,36,8,99,5]\n",
    "time_series = pd.Series(data =d , index = i)\n",
    "print(time_series)\n"
   ]
  },
  {
   "cell_type": "code",
   "execution_count": 7,
   "id": "4486a2fa",
   "metadata": {},
   "outputs": [
    {
     "name": "stdout",
     "output_type": "stream",
     "text": [
      "name                 sanket\n",
      "add                   surat\n",
      "university              gtu\n",
      "city          surat,gujarat\n",
      "dtype: object\n"
     ]
    }
   ],
   "source": [
    "import numpy as np\n",
    "import pandas as pd\n",
    "name = [\"name\" , \"add\",\"university\",\"city\"]\n",
    "student = [\"sanket\",\"surat\",\"gtu\",\"surat,gujarat\"]\n",
    "data = pd.Series(student , index = name)\n",
    "print(data)"
   ]
  },
  {
   "cell_type": "code",
   "execution_count": null,
   "id": "86f7a0bb",
   "metadata": {},
   "outputs": [],
   "source": []
  }
 ],
 "metadata": {
  "kernelspec": {
   "display_name": "Python 3 (ipykernel)",
   "language": "python",
   "name": "python3"
  },
  "language_info": {
   "codemirror_mode": {
    "name": "ipython",
    "version": 3
   },
   "file_extension": ".py",
   "mimetype": "text/x-python",
   "name": "python",
   "nbconvert_exporter": "python",
   "pygments_lexer": "ipython3",
   "version": "3.11.4"
  }
 },
 "nbformat": 4,
 "nbformat_minor": 5
}
