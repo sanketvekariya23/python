{
 "cells": [
  {
   "cell_type": "code",
   "execution_count": 10,
   "id": "60b4e559",
   "metadata": {},
   "outputs": [
    {
     "name": "stdout",
     "output_type": "stream",
     "text": [
      "computer turn\n",
      "enter-> water(w),gun(g),snack(s)\n",
      "w\n",
      "computer choose s\n",
      "you choose w\n",
      "you lose!\n"
     ]
    }
   ],
   "source": [
    "import random\n",
    "\n",
    "\n",
    "def gamewin(comp,you):\n",
    "    if comp==you:\n",
    "        return None\n",
    "    \n",
    "    elif comp=='w':\n",
    "        if you =='s':\n",
    "            return True       \n",
    "        elif you=='g':\n",
    "            return False\n",
    "    elif comp=='s':\n",
    "        if you=='g':\n",
    "            return True\n",
    "        elif you=='w':\n",
    "            return False\n",
    "    elif comp=='g':\n",
    "        if you=='w':\n",
    "            return True\n",
    "        elif you=='s':\n",
    "            return False       \n",
    "\n",
    "print(\"computer turn\")\n",
    "rand =random.randint(1,3)\n",
    "if rand == 1:\n",
    "    comp = 'w'\n",
    "elif rand == 2:\n",
    "    comp = 'g'\n",
    "elif rand == 3:\n",
    "    comp ='s'\n",
    "print(\"enter-> water(w),gun(g),snack(s)\")\n",
    "you =input()\n",
    "\n",
    "\n",
    "print(\"computer choose\" ,comp)\n",
    "print(\"you choose\" ,you)\n",
    "A = gamewin(comp , you)\n",
    "if A==None:\n",
    "    print(\"game is tie!\")\n",
    "elif A:\n",
    "    print(\"you win!\")\n",
    "else:\n",
    "    print(\"you lose!\")"
   ]
  },
  {
   "cell_type": "code",
   "execution_count": null,
   "id": "d4ab6570",
   "metadata": {},
   "outputs": [],
   "source": []
  }
 ],
 "metadata": {
  "kernelspec": {
   "display_name": "Python 3 (ipykernel)",
   "language": "python",
   "name": "python3"
  },
  "language_info": {
   "codemirror_mode": {
    "name": "ipython",
    "version": 3
   },
   "file_extension": ".py",
   "mimetype": "text/x-python",
   "name": "python",
   "nbconvert_exporter": "python",
   "pygments_lexer": "ipython3",
   "version": "3.11.4"
  }
 },
 "nbformat": 4,
 "nbformat_minor": 5
}
