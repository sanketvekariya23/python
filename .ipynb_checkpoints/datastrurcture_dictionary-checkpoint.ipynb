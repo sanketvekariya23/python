{
 "cells": [
  {
   "cell_type": "code",
   "execution_count": 8,
   "id": "5bd41825",
   "metadata": {
    "scrolled": true
   },
   "outputs": [
    {
     "data": {
      "text/plain": [
       "{'apple': 100, 'banana': 101, 'watermalon': 102, 'graps': 103}"
      ]
     },
     "execution_count": 8,
     "metadata": {},
     "output_type": "execute_result"
    }
   ],
   "source": [
    "dic = {\"apple\":100, \"banana\":101,\"watermalon\":102,\"graps\":103}\n",
    "dic"
   ]
  },
  {
   "cell_type": "code",
   "execution_count": 8,
   "id": "b802708d",
   "metadata": {},
   "outputs": [
    {
     "ename": "NameError",
     "evalue": "name 'dic' is not defined",
     "output_type": "error",
     "traceback": [
      "\u001b[1;31m---------------------------------------------------------------------------\u001b[0m",
      "\u001b[1;31mNameError\u001b[0m                                 Traceback (most recent call last)",
      "Cell \u001b[1;32mIn[8], line 1\u001b[0m\n\u001b[1;32m----> 1\u001b[0m dic\u001b[38;5;241m.\u001b[39mkeys()\n",
      "\u001b[1;31mNameError\u001b[0m: name 'dic' is not defined"
     ]
    }
   ],
   "source": [
    "dic.keys()"
   ]
  },
  {
   "cell_type": "code",
   "execution_count": 10,
   "id": "e9b800fd",
   "metadata": {},
   "outputs": [
    {
     "data": {
      "text/plain": [
       "dict_values([100, 101, 102, 103])"
      ]
     },
     "execution_count": 10,
     "metadata": {},
     "output_type": "execute_result"
    }
   ],
   "source": [
    "dic.values()"
   ]
  },
  {
   "cell_type": "code",
   "execution_count": 14,
   "id": "0046e010",
   "metadata": {},
   "outputs": [
    {
     "data": {
      "text/plain": [
       "{'apple': 100, 'banana': 101, 'watermalon': 102, 'graps': 103, 'sanket': 7008}"
      ]
     },
     "execution_count": 14,
     "metadata": {},
     "output_type": "execute_result"
    }
   ],
   "source": [
    "dic[\"sanket\"] = 7008\n",
    "dic\n"
   ]
  },
  {
   "cell_type": "code",
   "execution_count": 15,
   "id": "b2a44837",
   "metadata": {},
   "outputs": [
    {
     "data": {
      "text/plain": [
       "{'apple': 1000, 'banana': 101, 'watermalon': 102, 'graps': 103, 'sanket': 7008}"
      ]
     },
     "execution_count": 15,
     "metadata": {},
     "output_type": "execute_result"
    }
   ],
   "source": [
    "dic[\"apple\"] = 1000\n",
    "dic"
   ]
  },
  {
   "cell_type": "code",
   "execution_count": 20,
   "id": "2063b7f7",
   "metadata": {},
   "outputs": [
    {
     "data": {
      "text/plain": [
       "{'sanket': 7008, 'vishal': 7064, 'manthan': 7001}"
      ]
     },
     "execution_count": 20,
     "metadata": {},
     "output_type": "execute_result"
    }
   ],
   "source": [
    "dic2 = {\"sanket\":7008,\"vishal\":7064,\"manthan\":7001}\n",
    "dic2\n"
   ]
  },
  {
   "cell_type": "code",
   "execution_count": 22,
   "id": "9c00191a",
   "metadata": {},
   "outputs": [
    {
     "data": {
      "text/plain": [
       "{'apple': 1000,\n",
       " 'banana': 101,\n",
       " 'watermalon': 102,\n",
       " 'graps': 103,\n",
       " 'sanket': 7008,\n",
       " 'vishal': 7064,\n",
       " 'manthan': 7001}"
      ]
     },
     "execution_count": 22,
     "metadata": {},
     "output_type": "execute_result"
    }
   ],
   "source": [
    "dic.update(dic2)\n",
    "dic"
   ]
  },
  {
   "cell_type": "code",
   "execution_count": 1,
   "id": "def5c812",
   "metadata": {},
   "outputs": [
    {
     "ename": "NameError",
     "evalue": "name 'dic' is not defined",
     "output_type": "error",
     "traceback": [
      "\u001b[1;31m---------------------------------------------------------------------------\u001b[0m",
      "\u001b[1;31mNameError\u001b[0m                                 Traceback (most recent call last)",
      "Cell \u001b[1;32mIn[1], line 1\u001b[0m\n\u001b[1;32m----> 1\u001b[0m dic\u001b[38;5;241m.\u001b[39mpop(\u001b[38;5;124m\"\u001b[39m\u001b[38;5;124mwatermalon\u001b[39m\u001b[38;5;124m\"\u001b[39m)\n\u001b[0;32m      2\u001b[0m dic\n",
      "\u001b[1;31mNameError\u001b[0m: name 'dic' is not defined"
     ]
    }
   ],
   "source": [
    "dic.pop(\"watermalon\")\n",
    "dic"
   ]
  },
  {
   "cell_type": "code",
   "execution_count": 4,
   "id": "0973e035",
   "metadata": {},
   "outputs": [
    {
     "data": {
      "text/plain": [
       "'a best reader of the india'"
      ]
     },
     "execution_count": 4,
     "metadata": {},
     "output_type": "execute_result"
    }
   ],
   "source": [
    "# nested dictionary\n",
    "dict = {\n",
    "    \"sanket\" :\"a coader\",\n",
    "    \"dhoni\" : \"a cricketer\",\n",
    "    \"kabaddi\" :{'pavan shehrawat' : 'a best reader of the india'}            # nested dictionary\n",
    "}\n",
    "dict[\"kabaddi\"][\"pavan shehrawat\"]                                           #access nested dictionary elements"
   ]
  },
  {
   "cell_type": "code",
   "execution_count": 13,
   "id": "75f9d45c",
   "metadata": {},
   "outputs": [
    {
     "data": {
      "text/plain": [
       "dict_keys(['sanket', 'dhoni', 'kabaddi'])"
      ]
     },
     "execution_count": 13,
     "metadata": {},
     "output_type": "execute_result"
    }
   ],
   "source": [
    "dict.keys()\n"
   ]
  },
  {
   "cell_type": "code",
   "execution_count": 14,
   "id": "14376f5a",
   "metadata": {},
   "outputs": [
    {
     "data": {
      "text/plain": [
       "dict_keys"
      ]
     },
     "execution_count": 14,
     "metadata": {},
     "output_type": "execute_result"
    }
   ],
   "source": [
    "type(dict.keys())"
   ]
  },
  {
   "cell_type": "code",
   "execution_count": 15,
   "id": "d645c118",
   "metadata": {},
   "outputs": [
    {
     "data": {
      "text/plain": [
       "['sanket', 'dhoni', 'kabaddi']"
      ]
     },
     "execution_count": 15,
     "metadata": {},
     "output_type": "execute_result"
    }
   ],
   "source": [
    "list(dict.keys())"
   ]
  },
  {
   "cell_type": "code",
   "execution_count": 16,
   "id": "9e26f868",
   "metadata": {},
   "outputs": [
    {
     "data": {
      "text/plain": [
       "'a coader'"
      ]
     },
     "execution_count": 16,
     "metadata": {},
     "output_type": "execute_result"
    }
   ],
   "source": [
    "dict.get(\"sanket\")"
   ]
  },
  {
   "cell_type": "code",
   "execution_count": 17,
   "id": "a392bd1e",
   "metadata": {},
   "outputs": [],
   "source": [
    "dict.get(\"uttam\")      # it is not thrown an error it return none when not present in dictionary\n",
    "# dict[\"uttam\"]         # it is directly thrown an error when not present in dectionary"
   ]
  },
  {
   "cell_type": "code",
   "execution_count": 19,
   "id": "2265f5bd",
   "metadata": {},
   "outputs": [
    {
     "name": "stdout",
     "output_type": "stream",
     "text": [
      "option of hindi word dict_keys(['dafatar', 'vidhyarthi', 'vastu'])\n",
      "enter a hindi word\n",
      "dafatar\n",
      "english word is office\n"
     ]
    }
   ],
   "source": [
    "#question :1\n",
    "# write a program which trnaslate hindi word to english,hindi word provide by the user.\n",
    "dict2 = {\"dafatar\":\"office\",\n",
    "        \"vidhyarthi\" : \"student\",\n",
    "        \"vastu\" : \"item \"}\n",
    "print(\"option of hindi word\", dict2.keys())\n",
    "print(\"enter a hindi word\")\n",
    "k = input()\n",
    "print(\"english word is\",dict2[k])"
   ]
  },
  {
   "cell_type": "code",
   "execution_count": 1,
   "id": "8c20bd59",
   "metadata": {},
   "outputs": [
    {
     "name": "stdout",
     "output_type": "stream",
     "text": [
      "enter the favourite languagepython\n",
      "enter the favourite languagephthon\n",
      "enter the favourite languagec\n",
      "enter the favourite languagejavascript\n"
     ]
    },
    {
     "data": {
      "text/plain": [
       "{'sanket': 'python', 'ravi': 'phthon', 'raj': 'c', 'rushil': 'javascript'}"
      ]
     },
     "execution_count": 1,
     "metadata": {},
     "output_type": "execute_result"
    }
   ],
   "source": [
    "#question:2\n",
    "# create empty dictionary and allow to enter 4 freinds to enter their favourite language and key is their names. assume the name is \n",
    "# uniqe.\n",
    "dictionary={}\n",
    "sanket =input(\"enter the favourite language\") \n",
    "ravi = input(\"enter the favourite language\")\n",
    "raj = input(\"enter the favourite language\")\n",
    "rushil = input(\"enter the favourite language\")\n",
    "dictionary[\"sanket\"] = sanket\n",
    "dictionary[\"ravi\"] = ravi\n",
    "dictionary[\"raj\"]= raj\n",
    "dictionary[\"rushil\"]= rushil\n",
    "dictionary\n",
    "# if two or more freinds names are same then it is not allowed BCZ dictionary is not allowed duplicates in key\n",
    "# but duplicate value is allowed."
   ]
  },
  {
   "cell_type": "code",
   "execution_count": 3,
   "id": "6d4c7ac6",
   "metadata": {},
   "outputs": [
    {
     "ename": "TypeError",
     "evalue": "unhashable type: 'list'",
     "output_type": "error",
     "traceback": [
      "\u001b[1;31m---------------------------------------------------------------------------\u001b[0m",
      "\u001b[1;31mTypeError\u001b[0m                                 Traceback (most recent call last)",
      "Cell \u001b[1;32mIn[3], line 2\u001b[0m\n\u001b[0;32m      1\u001b[0m \u001b[38;5;66;03m#question : 3 can you change list inside of the dictionary.\u001b[39;00m\n\u001b[1;32m----> 2\u001b[0m s\u001b[38;5;241m=\u001b[39m {\u001b[38;5;241m1\u001b[39m,\u001b[38;5;241m3\u001b[39m,\u001b[38;5;241m7\u001b[39m,\u001b[38;5;124m\"\u001b[39m\u001b[38;5;124msanket\u001b[39m\u001b[38;5;124m\"\u001b[39m,[\u001b[38;5;241m1\u001b[39m,\u001b[38;5;241m2\u001b[39m,\u001b[38;5;241m3\u001b[39m]}\n",
      "\u001b[1;31mTypeError\u001b[0m: unhashable type: 'list'"
     ]
    }
   ],
   "source": [
    "#question : 3 can you change list inside of the dictionary.\n",
    "s= {1,3,7,\"sanket\",[1,2,3]}\n",
    "# list (unhashable) inside dictionary -> not allowed \n",
    "# tuple inside dictinary is allowed.\n",
    "sl = {1,3,4,\"sanket\",(1,3,4)}  # -> allowed but cant change tuples"
   ]
  },
  {
   "cell_type": "code",
   "execution_count": null,
   "id": "dd6971d5",
   "metadata": {},
   "outputs": [],
   "source": []
  }
 ],
 "metadata": {
  "kernelspec": {
   "display_name": "Python 3 (ipykernel)",
   "language": "python",
   "name": "python3"
  },
  "language_info": {
   "codemirror_mode": {
    "name": "ipython",
    "version": 3
   },
   "file_extension": ".py",
   "mimetype": "text/x-python",
   "name": "python",
   "nbconvert_exporter": "python",
   "pygments_lexer": "ipython3",
   "version": "3.11.4"
  }
 },
 "nbformat": 4,
 "nbformat_minor": 5
}
