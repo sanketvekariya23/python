{
 "cells": [
  {
   "cell_type": "code",
   "execution_count": 1,
   "id": "533dc47a",
   "metadata": {},
   "outputs": [],
   "source": [
    "# Pandas allows us to analyze big data and make conclusions based on statistical theories.\n",
    "\n",
    "# Pandas can clean messy data sets, and make them readable and relevant.\n",
    "\n",
    "# Relevant data is very important in data science.\n",
    "\n",
    "# how to store, use and analyze data for deriving information from it."
   ]
  },
  {
   "cell_type": "code",
   "execution_count": 2,
   "id": "c58f2997",
   "metadata": {},
   "outputs": [
    {
     "name": "stdout",
     "output_type": "stream",
     "text": [
      "           car   number  platenumber\n",
      "0           bmw       1         5321\n",
      "1           i10       2         5669\n",
      "2           i20       3         5585\n",
      "3         swift       4         5522\n",
      "4         verna       5         5633\n",
      "5     mustangGT       6         3156\n",
      "6        farari       7         1543\n",
      "7   lembarghini       8         2454\n",
      "8      fortunar       9         4520\n",
      "9          thar      10         1234\n",
      "10          KIA      11         5678\n",
      "11        creta      12         9562\n"
     ]
    }
   ],
   "source": [
    "import pandas as pd\n",
    "mydataset = {\n",
    "    \"car \" : [\"bmw\",\"i10\",\"i20\",\"swift\",\"verna\",\"mustangGT\",\"farari\",\"lembarghini\",\"fortunar\",\"thar\",\"KIA\",\"creta\"],\n",
    "    \"number\":[1,2,3,4,5,6,7,8,9,10,11,12],\n",
    "    \"platenumber\" :[5321,5669,5585,5522,5633,3156,1543,2454,4520,1234,5678,9562]\n",
    "}\n",
    "myvar = pd.DataFrame(mydataset)\n",
    "print(myvar)"
   ]
  },
  {
   "cell_type": "code",
   "execution_count": 3,
   "id": "b06d0348",
   "metadata": {},
   "outputs": [],
   "source": [
    "#fetch into excel file\n",
    "\n",
    "myvar.to_csv('sanketcollection.csv')"
   ]
  },
  {
   "cell_type": "code",
   "execution_count": 4,
   "id": "d5f2c9dc",
   "metadata": {},
   "outputs": [
    {
     "name": "stderr",
     "output_type": "stream",
     "text": [
      "C:\\Users\\sanket vekariya\\AppData\\Local\\Temp\\ipykernel_10504\\1196905921.py:1: SettingWithCopyWarning: \n",
      "A value is trying to be set on a copy of a slice from a DataFrame\n",
      "\n",
      "See the caveats in the documentation: https://pandas.pydata.org/pandas-docs/stable/user_guide/indexing.html#returning-a-view-versus-a-copy\n",
      "  myvar['platenumber'][3] = 3333\n"
     ]
    }
   ],
   "source": [
    "myvar['platenumber'][3] = 3333"
   ]
  },
  {
   "cell_type": "code",
   "execution_count": 5,
   "id": "1f8a1ecc",
   "metadata": {},
   "outputs": [],
   "source": [
    "myvar.to_csv('sanketcollection.csv')"
   ]
  },
  {
   "cell_type": "markdown",
   "id": "8cbc21c3",
   "metadata": {},
   "source": [
    "# series"
   ]
  },
  {
   "cell_type": "code",
   "execution_count": 6,
   "id": "accbbb77",
   "metadata": {},
   "outputs": [
    {
     "ename": "NameError",
     "evalue": "name 'myvar1' is not defined",
     "output_type": "error",
     "traceback": [
      "\u001b[1;31m---------------------------------------------------------------------------\u001b[0m",
      "\u001b[1;31mNameError\u001b[0m                                 Traceback (most recent call last)",
      "Cell \u001b[1;32mIn[6], line 1\u001b[0m\n\u001b[1;32m----> 1\u001b[0m myvar1[\u001b[38;5;241m0\u001b[39m]\n",
      "\u001b[1;31mNameError\u001b[0m: name 'myvar1' is not defined"
     ]
    }
   ],
   "source": [
    "myvar[0]"
   ]
  },
  {
   "cell_type": "code",
   "execution_count": null,
   "id": "c0cf689d",
   "metadata": {},
   "outputs": [],
   "source": [
    "myvar2 = pd.Series(a,index=['a','b','c','d','e','f','g'])\n",
    "print(myvar2)"
   ]
  },
  {
   "cell_type": "code",
   "execution_count": null,
   "id": "b8f3a393",
   "metadata": {},
   "outputs": [],
   "source": [
    "myvar2['a']"
   ]
  },
  {
   "cell_type": "code",
   "execution_count": null,
   "id": "7d8c4339",
   "metadata": {},
   "outputs": [],
   "source": [
    "myvar2['g']"
   ]
  },
  {
   "cell_type": "code",
   "execution_count": null,
   "id": "d1016654",
   "metadata": {},
   "outputs": [],
   "source": [
    "mydataset = {\n",
    "    \"days\" :[\"day1\",'day2',\"day3\"],\n",
    "    \"calories\" :[500,550,4220]\n",
    "}\n",
    "myvar4=pd.DataFrame(mydataset)"
   ]
  },
  {
   "cell_type": "code",
   "execution_count": null,
   "id": "a72dd73a",
   "metadata": {},
   "outputs": [],
   "source": [
    "myvar4"
   ]
  },
  {
   "cell_type": "code",
   "execution_count": null,
   "id": "b476f96f",
   "metadata": {},
   "outputs": [],
   "source": [
    "print(myvar4)"
   ]
  },
  {
   "cell_type": "code",
   "execution_count": null,
   "id": "c23efda9",
   "metadata": {},
   "outputs": [],
   "source": [
    "mydataset = {\"day1\":450,\"day2\":550,\"day3\":500}\n",
    "myvar5=pd.Series(mydataset,index=[\"day1\",\"day2\",\"day3\"])\n",
    "myvar5"
   ]
  },
  {
   "cell_type": "code",
   "execution_count": null,
   "id": "390d74c8",
   "metadata": {},
   "outputs": [],
   "source": [
    "myvar5[\"day2\"]"
   ]
  },
  {
   "cell_type": "code",
   "execution_count": null,
   "id": "ae6ccfa2",
   "metadata": {},
   "outputs": [],
   "source": [
    "print(myvar4.loc[0])    # for row and column refer to row index"
   ]
  },
  {
   "cell_type": "code",
   "execution_count": null,
   "id": "4bd6c69a",
   "metadata": {},
   "outputs": [],
   "source": [
    "myvar5.loc[\"day1\"]        #index access by the location keyword"
   ]
  },
  {
   "cell_type": "markdown",
   "id": "c56eb450",
   "metadata": {},
   "source": [
    "# read csv file\n"
   ]
  },
  {
   "cell_type": "code",
   "execution_count": null,
   "id": "b7137ed3",
   "metadata": {},
   "outputs": [],
   "source": [
    "import pandas as pd\n",
    "csvread = pd.read_csv('data.csv')\n",
    "print(csvread.to_string())"
   ]
  },
  {
   "cell_type": "code",
   "execution_count": null,
   "id": "3d0a7377",
   "metadata": {},
   "outputs": [],
   "source": [
    "import pandas as pd\n",
    "print(pd.options.display.max_rows)     #check the maximun number of the rows return"
   ]
  },
  {
   "cell_type": "code",
   "execution_count": null,
   "id": "1ae5e65c",
   "metadata": {},
   "outputs": [],
   "source": [
    "#the number of rows display entire data frame\n",
    "pd.options.display.max_rows=10\n",
    "csvread = pd.read_csv('data.csv')\n",
    "print(csvread)\n",
    "\n",
    "# display only 10 numbers of rows"
   ]
  },
  {
   "cell_type": "code",
   "execution_count": null,
   "id": "47330ac1",
   "metadata": {},
   "outputs": [],
   "source": [
    "# Big data sets are often stored, or extracted as JSON.\n",
    "\n",
    "# JSON is plain text, but has the format of an object, and is well known in the world of programming, including Pandas.\n",
    "\n",
    "import pandas as pd\n",
    "\n",
    "df = pd.read_json('jsonfile.js')\n",
    "\n",
    "print(df.to_string())"
   ]
  },
  {
   "cell_type": "code",
   "execution_count": null,
   "id": "923a485a",
   "metadata": {},
   "outputs": [],
   "source": [
    "#load python dictonary into dataframe\n",
    "import pandas as pd\n",
    "data = {\n",
    "  \"Duration\":{\n",
    "    \"0\":60,\n",
    "    \"1\":60,\n",
    "    \"2\":60,\n",
    "    \"3\":45,\n",
    "    \"4\":45,\n",
    "    \"5\":60\n",
    "  },\n",
    "  \"Pulse\":{\n",
    "    \"0\":110,\n",
    "    \"1\":117,\n",
    "    \"2\":103,\n",
    "    \"3\":109,\n",
    "    \"4\":117,\n",
    "    \"5\":102\n",
    "  },\n",
    "  \"Maxpulse\":{\n",
    "    \"0\":130,\n",
    "    \"1\":145,\n",
    "    \"2\":135,\n",
    "    \"3\":175,\n",
    "    \"4\":148,\n",
    "    \"5\":127\n",
    "  },\n",
    "  \"Calories\":{\n",
    "    \"0\":409,\n",
    "    \"1\":479,\n",
    "    \"2\":340,\n",
    "    \"3\":282,\n",
    "    \"4\":406,\n",
    "    \"5\":300\n",
    "  }\n",
    "}\n",
    "df = pd.DataFrame(data)\n",
    "print(df)"
   ]
  },
  {
   "cell_type": "markdown",
   "id": "a0bb6470",
   "metadata": {},
   "source": [
    "# analyzing data\n"
   ]
  },
  {
   "cell_type": "code",
   "execution_count": null,
   "id": "150a73bb",
   "metadata": {},
   "outputs": [],
   "source": [
    "df.head()"
   ]
  },
  {
   "cell_type": "code",
   "execution_count": null,
   "id": "0b4789c7",
   "metadata": {},
   "outputs": [],
   "source": [
    "df.head(6)"
   ]
  },
  {
   "cell_type": "code",
   "execution_count": null,
   "id": "81694efc",
   "metadata": {},
   "outputs": [],
   "source": [
    "df.tail(3)"
   ]
  },
  {
   "cell_type": "code",
   "execution_count": null,
   "id": "cc679cc7",
   "metadata": {},
   "outputs": [],
   "source": [
    "df.info()"
   ]
  },
  {
   "cell_type": "code",
   "execution_count": null,
   "id": "f17cbd6c",
   "metadata": {},
   "outputs": [],
   "source": []
  }
 ],
 "metadata": {
  "kernelspec": {
   "display_name": "Python 3 (ipykernel)",
   "language": "python",
   "name": "python3"
  },
  "language_info": {
   "codemirror_mode": {
    "name": "ipython",
    "version": 3
   },
   "file_extension": ".py",
   "mimetype": "text/x-python",
   "name": "python",
   "nbconvert_exporter": "python",
   "pygments_lexer": "ipython3",
   "version": "3.11.4"
  }
 },
 "nbformat": 4,
 "nbformat_minor": 5
}
