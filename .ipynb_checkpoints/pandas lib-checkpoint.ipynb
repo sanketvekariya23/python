{
 "cells": [
  {
   "cell_type": "code",
   "execution_count": 6,
   "id": "76f22d40",
   "metadata": {},
   "outputs": [
    {
     "name": "stdout",
     "output_type": "stream",
     "text": [
      "2023-03-27    50\n",
      "2023-03-28    36\n",
      "2023-03-29     8\n",
      "2023-03-30    99\n",
      "2023-03-31     5\n",
      "dtype: int64\n"
     ]
    }
   ],
   "source": [
    "import pandas as pd\n",
    "import numpy as np\n",
    "dates = pd.to_datetime(\"27th of march, 2023\")\n",
    "i = dates + pd.to_timedelta(np.arange(5),unit = 'D')\n",
    "d = [50,36,8,99,5]\n",
    "time_series = pd.Series(data =d , index = i)\n",
    "print(time_series)\n"
   ]
  },
  {
   "cell_type": "code",
   "execution_count": 7,
   "id": "10d55c79",
   "metadata": {},
   "outputs": [
    {
     "name": "stdout",
     "output_type": "stream",
     "text": [
      "name                 sanket\n",
      "add                   surat\n",
      "university              gtu\n",
      "city          surat,gujarat\n",
      "dtype: object\n"
     ]
    }
   ],
   "source": [
    "import numpy as np\n",
    "import pandas as pd\n",
    "name = [\"name\" , \"add\",\"university\",\"city\"]\n",
    "student = [\"sanket\",\"surat\",\"gtu\",\"surat,gujarat\"]\n",
    "data = pd.Series(student , index = name)\n",
    "print(data)"
   ]
  },
  {
   "cell_type": "code",
   "execution_count": 9,
   "id": "483c714c",
   "metadata": {},
   "outputs": [
    {
     "name": "stdout",
     "output_type": "stream",
     "text": [
      "     ada  pds\n",
      "101   30   82\n",
      "102   58   44\n",
      "103   34   98\n",
      "104   41   80\n",
      "105   99   40\n"
     ]
    }
   ],
   "source": [
    "import pandas as pd\n",
    "import numpy as np\n",
    "arr = np.random.randint(0,100,10).reshape(5,2)\n",
    "df = pd.DataFrame(arr,np.arange(101,106),['ada','pds'])\n",
    "print(df)"
   ]
  },
  {
   "cell_type": "code",
   "execution_count": 11,
   "id": "e554ed39",
   "metadata": {},
   "outputs": [
    {
     "name": "stdout",
     "output_type": "stream",
     "text": [
      "     ada  pds  total\n",
      "101   30   82    112\n",
      "102   58   44    102\n",
      "103   34   98    132\n",
      "104   41   80    121\n",
      "105   99   40    139\n"
     ]
    }
   ],
   "source": [
    "df['total'] = df['ada'] + df['pds']\n",
    "print(df)"
   ]
  },
  {
   "cell_type": "code",
   "execution_count": 17,
   "id": "ebd96c62",
   "metadata": {},
   "outputs": [
    {
     "data": {
      "text/html": [
       "<div>\n",
       "<style scoped>\n",
       "    .dataframe tbody tr th:only-of-type {\n",
       "        vertical-align: middle;\n",
       "    }\n",
       "\n",
       "    .dataframe tbody tr th {\n",
       "        vertical-align: top;\n",
       "    }\n",
       "\n",
       "    .dataframe thead th {\n",
       "        text-align: right;\n",
       "    }\n",
       "</style>\n",
       "<table border=\"1\" class=\"dataframe\">\n",
       "  <thead>\n",
       "    <tr style=\"text-align: right;\">\n",
       "      <th></th>\n",
       "      <th>ada</th>\n",
       "      <th>pds</th>\n",
       "      <th>total</th>\n",
       "    </tr>\n",
       "  </thead>\n",
       "  <tbody>\n",
       "    <tr>\n",
       "      <th>101</th>\n",
       "      <td>30</td>\n",
       "      <td>82</td>\n",
       "      <td>112</td>\n",
       "    </tr>\n",
       "    <tr>\n",
       "      <th>104</th>\n",
       "      <td>41</td>\n",
       "      <td>80</td>\n",
       "      <td>121</td>\n",
       "    </tr>\n",
       "  </tbody>\n",
       "</table>\n",
       "</div>"
      ],
      "text/plain": [
       "     ada  pds  total\n",
       "101   30   82    112\n",
       "104   41   80    121"
      ]
     },
     "execution_count": 17,
     "metadata": {},
     "output_type": "execute_result"
    }
   ],
   "source": [
    "df.loc[[101,104]]"
   ]
  },
  {
   "cell_type": "code",
   "execution_count": 19,
   "id": "5bb0a98e",
   "metadata": {},
   "outputs": [
    {
     "name": "stdout",
     "output_type": "stream",
     "text": [
      "     ada  pds\n",
      "101   30   82\n",
      "102   58   44\n",
      "103   34   98\n",
      "104   41   80\n",
      "105   99   40\n"
     ]
    }
   ],
   "source": [
    "df.drop('total',axis=1,inplace=True)\n",
    "print(df)"
   ]
  },
  {
   "cell_type": "code",
   "execution_count": 20,
   "id": "74419bf6",
   "metadata": {},
   "outputs": [
    {
     "name": "stdout",
     "output_type": "stream",
     "text": [
      "       ada    pds\n",
      "101  False   True\n",
      "102   True  False\n",
      "103  False   True\n",
      "104  False   True\n",
      "105   True  False\n"
     ]
    }
   ],
   "source": [
    "dfbool = df>50\n",
    "print(dfbool)"
   ]
  },
  {
   "cell_type": "code",
   "execution_count": 21,
   "id": "c2c0ad2a",
   "metadata": {},
   "outputs": [
    {
     "name": "stdout",
     "output_type": "stream",
     "text": [
      "101     True\n",
      "102    False\n",
      "103     True\n",
      "104     True\n",
      "105    False\n",
      "Name: pds, dtype: bool\n"
     ]
    }
   ],
   "source": [
    "dfbool1 = df['pds']>50\n",
    "print(dfbool1)"
   ]
  },
  {
   "cell_type": "code",
   "execution_count": 22,
   "id": "2611993d",
   "metadata": {},
   "outputs": [
    {
     "name": "stdout",
     "output_type": "stream",
     "text": [
      "     ada  pds\n",
      "101   30   82\n",
      "102   58   44\n",
      "103   34   98\n",
      "104   41   80\n",
      "105   99   40\n"
     ]
    }
   ],
   "source": [
    "print(df)"
   ]
  },
  {
   "cell_type": "code",
   "execution_count": 23,
   "id": "93db7ef7",
   "metadata": {},
   "outputs": [
    {
     "name": "stdout",
     "output_type": "stream",
     "text": [
      "         ada  pds\n",
      "rollno.          \n",
      "101       30   82\n",
      "102       58   44\n",
      "103       34   98\n",
      "104       41   80\n",
      "105       99   40\n"
     ]
    }
   ],
   "source": [
    "df.index.name = \"rollno.\"\n",
    "print(df)"
   ]
  },
  {
   "cell_type": "code",
   "execution_count": 26,
   "id": "81894499",
   "metadata": {},
   "outputs": [
    {
     "data": {
      "text/html": [
       "<div>\n",
       "<style scoped>\n",
       "    .dataframe tbody tr th:only-of-type {\n",
       "        vertical-align: middle;\n",
       "    }\n",
       "\n",
       "    .dataframe tbody tr th {\n",
       "        vertical-align: top;\n",
       "    }\n",
       "\n",
       "    .dataframe thead th {\n",
       "        text-align: right;\n",
       "    }\n",
       "</style>\n",
       "<table border=\"1\" class=\"dataframe\">\n",
       "  <thead>\n",
       "    <tr style=\"text-align: right;\">\n",
       "      <th></th>\n",
       "      <th>ada</th>\n",
       "    </tr>\n",
       "    <tr>\n",
       "      <th>pds</th>\n",
       "      <th></th>\n",
       "    </tr>\n",
       "  </thead>\n",
       "  <tbody>\n",
       "    <tr>\n",
       "      <th>82</th>\n",
       "      <td>30</td>\n",
       "    </tr>\n",
       "    <tr>\n",
       "      <th>44</th>\n",
       "      <td>58</td>\n",
       "    </tr>\n",
       "    <tr>\n",
       "      <th>98</th>\n",
       "      <td>34</td>\n",
       "    </tr>\n",
       "    <tr>\n",
       "      <th>80</th>\n",
       "      <td>41</td>\n",
       "    </tr>\n",
       "    <tr>\n",
       "      <th>40</th>\n",
       "      <td>99</td>\n",
       "    </tr>\n",
       "  </tbody>\n",
       "</table>\n",
       "</div>"
      ],
      "text/plain": [
       "     ada\n",
       "pds     \n",
       "82    30\n",
       "44    58\n",
       "98    34\n",
       "80    41\n",
       "40    99"
      ]
     },
     "execution_count": 26,
     "metadata": {},
     "output_type": "execute_result"
    }
   ],
   "source": [
    "df.set_index('pds')"
   ]
  },
  {
   "cell_type": "code",
   "execution_count": 27,
   "id": "2ba6172b",
   "metadata": {},
   "outputs": [
    {
     "data": {
      "text/html": [
       "<div>\n",
       "<style scoped>\n",
       "    .dataframe tbody tr th:only-of-type {\n",
       "        vertical-align: middle;\n",
       "    }\n",
       "\n",
       "    .dataframe tbody tr th {\n",
       "        vertical-align: top;\n",
       "    }\n",
       "\n",
       "    .dataframe thead th {\n",
       "        text-align: right;\n",
       "    }\n",
       "</style>\n",
       "<table border=\"1\" class=\"dataframe\">\n",
       "  <thead>\n",
       "    <tr style=\"text-align: right;\">\n",
       "      <th></th>\n",
       "      <th>rollno.</th>\n",
       "      <th>ada</th>\n",
       "      <th>pds</th>\n",
       "    </tr>\n",
       "  </thead>\n",
       "  <tbody>\n",
       "    <tr>\n",
       "      <th>0</th>\n",
       "      <td>101</td>\n",
       "      <td>30</td>\n",
       "      <td>82</td>\n",
       "    </tr>\n",
       "    <tr>\n",
       "      <th>1</th>\n",
       "      <td>102</td>\n",
       "      <td>58</td>\n",
       "      <td>44</td>\n",
       "    </tr>\n",
       "    <tr>\n",
       "      <th>2</th>\n",
       "      <td>103</td>\n",
       "      <td>34</td>\n",
       "      <td>98</td>\n",
       "    </tr>\n",
       "    <tr>\n",
       "      <th>3</th>\n",
       "      <td>104</td>\n",
       "      <td>41</td>\n",
       "      <td>80</td>\n",
       "    </tr>\n",
       "    <tr>\n",
       "      <th>4</th>\n",
       "      <td>105</td>\n",
       "      <td>99</td>\n",
       "      <td>40</td>\n",
       "    </tr>\n",
       "  </tbody>\n",
       "</table>\n",
       "</div>"
      ],
      "text/plain": [
       "   rollno.  ada  pds\n",
       "0      101   30   82\n",
       "1      102   58   44\n",
       "2      103   34   98\n",
       "3      104   41   80\n",
       "4      105   99   40"
      ]
     },
     "execution_count": 27,
     "metadata": {},
     "output_type": "execute_result"
    }
   ],
   "source": [
    "df.reset_index()"
   ]
  },
  {
   "cell_type": "code",
   "execution_count": 30,
   "id": "64ebd13f",
   "metadata": {},
   "outputs": [],
   "source": [
    "import pandas as pd\n",
    "data = {\"col\":[\"sanket\",\"sanket\",\"uttam\",\"uttam\"],\n",
    "        \"dep\":['ce','ce','it','it'],\n",
    "        \"sem\":[5,5,7,7],\n",
    "        \"rn\":[101,102,103,104],\n",
    "        \"s1\":[95,56,25,58]\n",
    "       }\n",
    "df =pd.DataFrame(data)"
   ]
  },
  {
   "cell_type": "code",
   "execution_count": 31,
   "id": "f1c3dd7e",
   "metadata": {},
   "outputs": [
    {
     "data": {
      "text/html": [
       "<div>\n",
       "<style scoped>\n",
       "    .dataframe tbody tr th:only-of-type {\n",
       "        vertical-align: middle;\n",
       "    }\n",
       "\n",
       "    .dataframe tbody tr th {\n",
       "        vertical-align: top;\n",
       "    }\n",
       "\n",
       "    .dataframe thead th {\n",
       "        text-align: right;\n",
       "    }\n",
       "</style>\n",
       "<table border=\"1\" class=\"dataframe\">\n",
       "  <thead>\n",
       "    <tr style=\"text-align: right;\">\n",
       "      <th></th>\n",
       "      <th>col</th>\n",
       "      <th>dep</th>\n",
       "      <th>sem</th>\n",
       "      <th>rn</th>\n",
       "      <th>s1</th>\n",
       "    </tr>\n",
       "  </thead>\n",
       "  <tbody>\n",
       "    <tr>\n",
       "      <th>0</th>\n",
       "      <td>sanket</td>\n",
       "      <td>ce</td>\n",
       "      <td>5</td>\n",
       "      <td>101</td>\n",
       "      <td>95</td>\n",
       "    </tr>\n",
       "    <tr>\n",
       "      <th>1</th>\n",
       "      <td>sanket</td>\n",
       "      <td>ce</td>\n",
       "      <td>5</td>\n",
       "      <td>102</td>\n",
       "      <td>56</td>\n",
       "    </tr>\n",
       "    <tr>\n",
       "      <th>2</th>\n",
       "      <td>uttam</td>\n",
       "      <td>it</td>\n",
       "      <td>7</td>\n",
       "      <td>103</td>\n",
       "      <td>25</td>\n",
       "    </tr>\n",
       "    <tr>\n",
       "      <th>3</th>\n",
       "      <td>uttam</td>\n",
       "      <td>it</td>\n",
       "      <td>7</td>\n",
       "      <td>104</td>\n",
       "      <td>58</td>\n",
       "    </tr>\n",
       "  </tbody>\n",
       "</table>\n",
       "</div>"
      ],
      "text/plain": [
       "      col dep  sem   rn  s1\n",
       "0  sanket  ce    5  101  95\n",
       "1  sanket  ce    5  102  56\n",
       "2   uttam  it    7  103  25\n",
       "3   uttam  it    7  104  58"
      ]
     },
     "execution_count": 31,
     "metadata": {},
     "output_type": "execute_result"
    }
   ],
   "source": [
    "df"
   ]
  },
  {
   "cell_type": "code",
   "execution_count": 53,
   "id": "bb4cd92f",
   "metadata": {},
   "outputs": [
    {
     "data": {
      "text/html": [
       "<div>\n",
       "<style scoped>\n",
       "    .dataframe tbody tr th:only-of-type {\n",
       "        vertical-align: middle;\n",
       "    }\n",
       "\n",
       "    .dataframe tbody tr th {\n",
       "        vertical-align: top;\n",
       "    }\n",
       "\n",
       "    .dataframe thead th {\n",
       "        text-align: right;\n",
       "    }\n",
       "</style>\n",
       "<table border=\"1\" class=\"dataframe\">\n",
       "  <thead>\n",
       "    <tr style=\"text-align: right;\">\n",
       "      <th></th>\n",
       "      <th></th>\n",
       "      <th></th>\n",
       "      <th></th>\n",
       "      <th>s1</th>\n",
       "      <th>s2</th>\n",
       "      <th>s3</th>\n",
       "    </tr>\n",
       "    <tr>\n",
       "      <th></th>\n",
       "      <th>col</th>\n",
       "      <th>dep</th>\n",
       "      <th>sem</th>\n",
       "      <th></th>\n",
       "      <th></th>\n",
       "      <th></th>\n",
       "    </tr>\n",
       "  </thead>\n",
       "  <tbody>\n",
       "    <tr>\n",
       "      <th>0</th>\n",
       "      <th>abc</th>\n",
       "      <th>ce</th>\n",
       "      <th>5</th>\n",
       "      <td>9</td>\n",
       "      <td>23</td>\n",
       "      <td>35</td>\n",
       "    </tr>\n",
       "    <tr>\n",
       "      <th>1</th>\n",
       "      <th>abc</th>\n",
       "      <th>ce</th>\n",
       "      <th>5</th>\n",
       "      <td>6</td>\n",
       "      <td>5</td>\n",
       "      <td>5</td>\n",
       "    </tr>\n",
       "    <tr>\n",
       "      <th>2</th>\n",
       "      <th>sanket</th>\n",
       "      <th>it</th>\n",
       "      <th>7</th>\n",
       "      <td>2</td>\n",
       "      <td>56</td>\n",
       "      <td>65</td>\n",
       "    </tr>\n",
       "    <tr>\n",
       "      <th>3</th>\n",
       "      <th>sanket</th>\n",
       "      <th>it</th>\n",
       "      <th>7</th>\n",
       "      <td>2</td>\n",
       "      <td>2</td>\n",
       "      <td>6</td>\n",
       "    </tr>\n",
       "  </tbody>\n",
       "</table>\n",
       "</div>"
      ],
      "text/plain": [
       "                  s1  s2  s3\n",
       "  col    dep sem            \n",
       "0 abc    ce  5     9  23  35\n",
       "1 abc    ce  5     6   5   5\n",
       "2 sanket it  7     2  56  65\n",
       "3 sanket it  7     2   2   6"
      ]
     },
     "execution_count": 53,
     "metadata": {},
     "output_type": "execute_result"
    }
   ],
   "source": [
    "import pandas as pd\n",
    "fcsv = pd.read_csv(\"details.csv\",index_col=[0,1,2,3])\n",
    "fcsv"
   ]
  }
 ],
 "metadata": {
  "kernelspec": {
   "display_name": "Python 3 (ipykernel)",
   "language": "python",
   "name": "python3"
  },
  "language_info": {
   "codemirror_mode": {
    "name": "ipython",
    "version": 3
   },
   "file_extension": ".py",
   "mimetype": "text/x-python",
   "name": "python",
   "nbconvert_exporter": "python",
   "pygments_lexer": "ipython3",
   "version": "3.11.4"
  }
 },
 "nbformat": 4,
 "nbformat_minor": 5
}
