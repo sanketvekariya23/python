{
 "cells": [
  {
   "cell_type": "code",
   "execution_count": 10,
   "id": "12981366",
   "metadata": {},
   "outputs": [
    {
     "name": "stdout",
     "output_type": "stream",
     "text": [
      "enter three number\n",
      "23\n",
      "32\n",
      "333\n",
      "The largest number is: 333.0\n"
     ]
    }
   ],
   "source": [
    "# question : 1\n",
    "#Find the largest number from 3 numbers and print on the screen.\n",
    "print(\"enter three number\")\n",
    "num1 = float(input())\n",
    "num2 = float(input())\n",
    "num3 = float(input())\n",
    "if num1 >= num2 and num1 >= num3:\n",
    "    largest = num1\n",
    "elif num2 >= num1 and num2 >= num3:\n",
    "    largest = num2\n",
    "else:\n",
    "    largest = num3\n",
    "\n",
    "print(\"The largest number is:\", largest)"
   ]
  },
  {
   "cell_type": "code",
   "execution_count": 11,
   "id": "471af457",
   "metadata": {},
   "outputs": [
    {
     "name": "stdout",
     "output_type": "stream",
     "text": [
      "random a 58\n",
      "random b 169\n",
      "random c 177\n"
     ]
    }
   ],
   "source": [
    "# question:2\n",
    "#     Take 3 variables and assign random numbers and display it. (using random package)\n",
    "import random\n",
    "a = random.randint(0,100)\n",
    "b = random.randint(10,200)\n",
    "c = random.randint(100,300)\n",
    "print(\"random a\",a)\n",
    "print(\"random b\",b)\n",
    "print(\"random c\",c)\n"
   ]
  },
  {
   "cell_type": "code",
   "execution_count": 16,
   "id": "afbae221",
   "metadata": {},
   "outputs": [
    {
     "name": "stdout",
     "output_type": "stream",
     "text": [
      "<class 'float'>\n",
      "<class 'complex'>\n",
      "<class 'int'>\n"
     ]
    }
   ],
   "source": [
    "#question :3\n",
    "# Take 3 variables and assign int and float values to it. Display 1st variable int value, 2nd\n",
    "# variable float value and 3rd variable complex value. (X = 20.5, Y = 20+5j, Z = 20)\n",
    "x = 20.5\n",
    "y = 20+5j\n",
    "z = 20\n",
    "print(type(x))\n",
    "print(type(y))\n",
    "print(type(z))"
   ]
  },
  {
   "cell_type": "code",
   "execution_count": 16,
   "id": "42591391",
   "metadata": {},
   "outputs": [
    {
     "name": "stdout",
     "output_type": "stream",
     "text": [
      "36\n",
      "H\n",
      "ello,\n",
      "Hello, World!\n",
      "13\n",
      "hello, world!\n",
      "HELLO, WORLD!\n",
      "My name is John, and I am 36 years old.\n"
     ]
    }
   ],
   "source": [
    "a = \"Hello, World! \"\n",
    "age = 36\n",
    "txt = \"My name is John, and I am\"\n",
    "#1. Print value of a.\n",
    "print(age)\n",
    "# 2. Print first character.\n",
    "print(a[0])\n",
    "# 3. Print 2nd to 5th character.\n",
    "print(a[1:6])\n",
    "# 4. Remove extra space at last.\n",
    "a = a.strip()\n",
    "print(a)\n",
    "# 5. Find the length of a string.\n",
    "print(len(a))\n",
    "# 6. Convert all letters into lowercase.\n",
    "a1 = a.lower()\n",
    "print(a1)\n",
    "# 7. Convert all letters into upper case.\n",
    "a2= a.upper()\n",
    "print(a2)\n",
    "# 8. Using age and text, display “My name is John, and I am 36 years old.\n",
    "new = f\"{txt} {age} years old.\"\n",
    "print(new)"
   ]
  },
  {
   "cell_type": "code",
   "execution_count": 35,
   "id": "e5450595",
   "metadata": {},
   "outputs": [
    {
     "name": "stdout",
     "output_type": "stream",
     "text": [
      "[3, 8, 1, 6, 0, 8, 4]\n",
      "30\n",
      "3\n",
      "11\n",
      "12\n",
      "18\n",
      "18\n",
      "26\n",
      "30\n",
      "Reversed list with method: [4, 8, 0, 6, 1, 8, 3]\n",
      "Reversed list without method: [4, 8, 0, 6, 1, 8, 3]\n",
      "[3, 8, 6, 0, 8, 4]\n",
      "8\n",
      "List with duplicates removed: [0, 3, 4, 6, 8]\n",
      "Sorted list with method: [0, 3, 4, 6, 8, 8]\n",
      "Sorted list without method: [0, 3, 4, 6, 8, 8]\n"
     ]
    }
   ],
   "source": [
    "my_List = [3, 8, 1, 6, 0, 8, 4] \n",
    "#question:2\n",
    "print(my_List)\n",
    "#question : 3\n",
    "direct_function = sum(my_List)\n",
    "print(direct_function)\n",
    "without = 0\n",
    "for num in my_List:\n",
    "    without = num+without\n",
    "    \n",
    "    print(without)\n",
    "    \n",
    "#question :4\n",
    "reversed_list_with_method = my_List.copy()\n",
    "reversed_list_with_method.reverse()\n",
    "reversed_list_without_method = my_List[::-1]\n",
    "print(\"Reversed list with method:\", reversed_list_with_method)\n",
    "print(\"Reversed list without method:\", reversed_list_without_method)\n",
    "#question:5\n",
    "my_List.remove(1)\n",
    "print(my_List)\n",
    "#question :6\n",
    "print(max(my_List))\n",
    "#question :7\n",
    "unique_list = list(set(my_List))\n",
    "print(\"List with duplicates removed:\", unique_list)\n",
    "#question :8\n",
    "sorted_list_with_method = my_List.copy()\n",
    "sorted_list_with_method.sort()\n",
    "sorted_list_without_method = sorted(my_List)\n",
    "print(\"Sorted list with method:\", sorted_list_with_method)\n",
    "print(\"Sorted list without method:\", sorted_list_without_method)"
   ]
  },
  {
   "cell_type": "code",
   "execution_count": 36,
   "id": "8c589edd",
   "metadata": {},
   "outputs": [
    {
     "name": "stdout",
     "output_type": "stream",
     "text": [
      "Tuple: (3, 8, 1, 6, 0, 8, 4)\n",
      "Length of the tuple: 7\n",
      "6 exists in the tuple.\n",
      "Tuple without the item: (3, 1, 6, 0, 4)\n",
      "Index of 0: 4\n",
      "Repeated items: {8}\n"
     ]
    }
   ],
   "source": [
    "my_Tuple = (3, 8, 1, 6, 0, 8, 4)\n",
    "\n",
    "# question:1.\n",
    "print(\"Tuple:\", my_Tuple)\n",
    "\n",
    "#question:2\n",
    "tuple_length = len(my_Tuple)\n",
    "print(\"Length of the tuple:\", tuple_length)\n",
    "\n",
    "# question:3\n",
    "element_to_check = 6\n",
    "if element_to_check in my_Tuple:\n",
    "    print(f\"{element_to_check} exists in the tuple.\")\n",
    "else:\n",
    "    print(f\"{element_to_check} does not exist in the tuple.\")\n",
    "\n",
    "# question:4\n",
    "item_to_remove = 8\n",
    "tuple_without_item = tuple(item for item in my_Tuple if item != item_to_remove)\n",
    "print(\"Tuple without the item:\", tuple_without_item)\n",
    "\n",
    "# question:5\n",
    "item_to_find = 0\n",
    "index_of_item = my_Tuple.index(item_to_find)\n",
    "print(f\"Index of {item_to_find}:\", index_of_item)\n",
    "\n",
    "#question :6\n",
    "repeated_items = set(item for item in my_Tuple if my_Tuple.count(item) > 1)\n",
    "print(\"Repeated items:\", repeated_items)"
   ]
  },
  {
   "cell_type": "code",
   "execution_count": 37,
   "id": "a91508ff",
   "metadata": {},
   "outputs": [
    {
     "name": "stdout",
     "output_type": "stream",
     "text": [
      "Set: {0, 1, 3, 4, 6, 8}\n",
      "Set after adding new members: {0, 1, 3, 4, 5, 6, 8, 9}\n",
      "Set after removing items: {0, 1, 3, 4, 5, 9}\n",
      "Set after discarding item: {1, 3, 4, 5, 9}\n"
     ]
    }
   ],
   "source": [
    "my_Set = {3, 8, 1, 6, 0, 8, 4}\n",
    "\n",
    "# question :1\n",
    "new_set = set()\n",
    "\n",
    "#question :2\n",
    "print(\"Set:\", my_Set)\n",
    "\n",
    "# question :3\n",
    "new_members = {5, 9}\n",
    "my_Set.update(new_members)\n",
    "print(\"Set after adding new members:\", my_Set)\n",
    "\n",
    "#question :4\n",
    "items_to_remove = {6, 8}\n",
    "my_Set.difference_update(items_to_remove)\n",
    "print(\"Set after removing items:\", my_Set)\n",
    "\n",
    "# question :5\n",
    "item_to_remove = 0\n",
    "my_Set.discard(item_to_remove)\n",
    "print(\"Set after discarding item:\", my_Set)"
   ]
  },
  {
   "cell_type": "code",
   "execution_count": null,
   "id": "acf4ef76",
   "metadata": {},
   "outputs": [],
   "source": []
  }
 ],
 "metadata": {
  "kernelspec": {
   "display_name": "Python 3 (ipykernel)",
   "language": "python",
   "name": "python3"
  },
  "language_info": {
   "codemirror_mode": {
    "name": "ipython",
    "version": 3
   },
   "file_extension": ".py",
   "mimetype": "text/x-python",
   "name": "python",
   "nbconvert_exporter": "python",
   "pygments_lexer": "ipython3",
   "version": "3.11.4"
  }
 },
 "nbformat": 4,
 "nbformat_minor": 5
}
