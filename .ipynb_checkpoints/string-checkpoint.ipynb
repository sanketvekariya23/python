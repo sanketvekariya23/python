{
 "cells": [
  {
   "cell_type": "code",
   "execution_count": 2,
   "id": "d2512a91",
   "metadata": {},
   "outputs": [
    {
     "data": {
      "text/plain": [
       "'IamSanketVekariya'"
      ]
     },
     "execution_count": 2,
     "metadata": {},
     "output_type": "execute_result"
    }
   ],
   "source": [
    "# string\n",
    "\n",
    "str = \"IamSanketVekariya\"\n",
    "str[0:4]"
   ]
  },
  {
   "cell_type": "code",
   "execution_count": 3,
   "id": "1a7d2d8b",
   "metadata": {},
   "outputs": [
    {
     "data": {
      "text/plain": [
       "'IamSanketVekariya'"
      ]
     },
     "execution_count": 3,
     "metadata": {},
     "output_type": "execute_result"
    }
   ],
   "source": [
    "str[0:]"
   ]
  },
  {
   "cell_type": "code",
   "execution_count": 4,
   "id": "889878b2",
   "metadata": {},
   "outputs": [
    {
     "data": {
      "text/plain": [
       "'IamSanketVekariy'"
      ]
     },
     "execution_count": 4,
     "metadata": {},
     "output_type": "execute_result"
    }
   ],
   "source": [
    "str[ :-1]"
   ]
  },
  {
   "cell_type": "code",
   "execution_count": 5,
   "id": "d513fe47",
   "metadata": {},
   "outputs": [
    {
     "data": {
      "text/plain": [
       "'a'"
      ]
     },
     "execution_count": 5,
     "metadata": {},
     "output_type": "execute_result"
    }
   ],
   "source": [
    "str[-1]"
   ]
  },
  {
   "cell_type": "code",
   "execution_count": 9,
   "id": "a9714af3",
   "metadata": {},
   "outputs": [
    {
     "data": {
      "text/plain": [
       "'Vekariy'"
      ]
     },
     "execution_count": 9,
     "metadata": {},
     "output_type": "execute_result"
    }
   ],
   "source": [
    "str[-8 : -1]"
   ]
  },
  {
   "cell_type": "code",
   "execution_count": 10,
   "id": "f0d62c42",
   "metadata": {},
   "outputs": [
    {
     "data": {
      "text/plain": [
       "'anke'"
      ]
     },
     "execution_count": 10,
     "metadata": {},
     "output_type": "execute_result"
    }
   ],
   "source": [
    "name = \"sanket\"\n",
    "name[-5 : -1]"
   ]
  },
  {
   "cell_type": "markdown",
   "id": "b6c607e2",
   "metadata": {},
   "source": [
    "#slicing with skip value\n"
   ]
  },
  {
   "cell_type": "code",
   "execution_count": 11,
   "id": "f62a4113",
   "metadata": {},
   "outputs": [
    {
     "data": {
      "text/plain": [
       "'Imakteaia'"
      ]
     },
     "execution_count": 11,
     "metadata": {},
     "output_type": "execute_result"
    }
   ],
   "source": [
    "str[0 :  : 2]"
   ]
  },
  {
   "cell_type": "code",
   "execution_count": 13,
   "id": "c67bed2e",
   "metadata": {},
   "outputs": [
    {
     "data": {
      "text/plain": [
       "91"
      ]
     },
     "execution_count": 13,
     "metadata": {},
     "output_type": "execute_result"
    }
   ],
   "source": [
    "#String functoins \n",
    "story =\"in a faraway kingdom, there once lived a king who was known for his grandeur and humility. \"\n",
    "len(story)"
   ]
  },
  {
   "cell_type": "code",
   "execution_count": 14,
   "id": "e76d51e2",
   "metadata": {},
   "outputs": [
    {
     "data": {
      "text/plain": [
       "False"
      ]
     },
     "execution_count": 14,
     "metadata": {},
     "output_type": "execute_result"
    }
   ],
   "source": [
    "story.endswith(\"humility\")"
   ]
  },
  {
   "cell_type": "code",
   "execution_count": 17,
   "id": "92817967",
   "metadata": {},
   "outputs": [
    {
     "data": {
      "text/plain": [
       "True"
      ]
     },
     "execution_count": 17,
     "metadata": {},
     "output_type": "execute_result"
    }
   ],
   "source": [
    "story.endswith(\" \")"
   ]
  },
  {
   "cell_type": "code",
   "execution_count": 19,
   "id": "ee3cdfab",
   "metadata": {},
   "outputs": [
    {
     "data": {
      "text/plain": [
       "1"
      ]
     },
     "execution_count": 19,
     "metadata": {},
     "output_type": "execute_result"
    }
   ],
   "source": [
    "story.count(\"known\")"
   ]
  },
  {
   "cell_type": "code",
   "execution_count": 22,
   "id": "dcd3a7fd",
   "metadata": {},
   "outputs": [
    {
     "data": {
      "text/plain": [
       "'In a faraway kingdom, there once lived a king who was known for his grandeur and humility. '"
      ]
     },
     "execution_count": 22,
     "metadata": {},
     "output_type": "execute_result"
    }
   ],
   "source": [
    "story.capitalize()"
   ]
  },
  {
   "cell_type": "code",
   "execution_count": 26,
   "id": "8ac0b5e0",
   "metadata": {},
   "outputs": [
    {
     "data": {
      "text/plain": [
       "64"
      ]
     },
     "execution_count": 26,
     "metadata": {},
     "output_type": "execute_result"
    }
   ],
   "source": [
    "story.find(\"his\")\n"
   ]
  },
  {
   "cell_type": "code",
   "execution_count": 32,
   "id": "e7fb1318",
   "metadata": {},
   "outputs": [
    {
     "data": {
      "text/plain": [
       "'In a faraway queendom, there once lived a queen who was known for his grandeur and humility. '"
      ]
     },
     "execution_count": 32,
     "metadata": {},
     "output_type": "execute_result"
    }
   ],
   "source": [
    "story.replace(\"king\" , \"queen\")"
   ]
  },
  {
   "cell_type": "code",
   "execution_count": 1,
   "id": "2fc7818a",
   "metadata": {},
   "outputs": [
    {
     "name": "stdout",
     "output_type": "stream",
     "text": [
      "enter your name and date\n"
     ]
    }
   ],
   "source": [
    "#qeustion :1 print good morning \"name\" name entered by the user\n",
    "print(\"enter your name and date\")\n"
   ]
  },
  {
   "cell_type": "code",
   "execution_count": 2,
   "id": "1bd1e22a",
   "metadata": {},
   "outputs": [
    {
     "name": "stdout",
     "output_type": "stream",
     "text": [
      "sanket\n",
      "good morning sanket\n"
     ]
    }
   ],
   "source": [
    "name = input()\n",
    "\n",
    "print(\"good morning \" + name )"
   ]
  },
  {
   "cell_type": "code",
   "execution_count": 6,
   "id": "4fe8622f",
   "metadata": {},
   "outputs": [
    {
     "name": "stdout",
     "output_type": "stream",
     "text": [
      "enter name and date\n",
      "sanket\n",
      "12\n",
      "dear sanket,\n",
      "        congratulation you are selected in tcs! ,\n",
      "    have a great day,\n",
      "        DATE : 12\n"
     ]
    }
   ],
   "source": [
    "# question : 2 dear <NAME>,\n",
    "#                  congratulation you are selected in tcs! ,\n",
    "#             have a great day,\n",
    "#             DATE : <DATE>, name and date is entered by the user,...\n",
    "\n",
    "cer = '''dear <NAME>,\n",
    "        congratulation you are selected in tcs! ,\n",
    "    have a great day,\n",
    "        DATE : <DATE>'''\n",
    "print(\"enter name and date\")\n",
    "name = input()\n",
    "date = int(input())\n",
    "date = str(date)\n",
    "cer = cer.replace(\"<NAME>\",name)\n",
    "cer = cer.replace(\"<DATE>\", date)\n",
    "print(cer)"
   ]
  },
  {
   "cell_type": "code",
   "execution_count": 7,
   "id": "6d180a57",
   "metadata": {},
   "outputs": [
    {
     "data": {
      "text/plain": [
       "46"
      ]
     },
     "execution_count": 7,
     "metadata": {},
     "output_type": "execute_result"
    }
   ],
   "source": [
    "#detect double space and replce in single space in string\n",
    "string = \"i am sanket vekariya i have complete pyton for  data science cource.\"\n",
    "string.find(\"  \")"
   ]
  },
  {
   "cell_type": "code",
   "execution_count": 8,
   "id": "1bcc6eac",
   "metadata": {},
   "outputs": [
    {
     "data": {
      "text/plain": [
       "'i am sanket vekariya i have complete pyton for data science cource.'"
      ]
     },
     "execution_count": 8,
     "metadata": {},
     "output_type": "execute_result"
    }
   ],
   "source": [
    "string.replace(\"  \", \" \")"
   ]
  },
  {
   "cell_type": "code",
   "execution_count": null,
   "id": "13304fcf",
   "metadata": {},
   "outputs": [],
   "source": []
  }
 ],
 "metadata": {
  "kernelspec": {
   "display_name": "Python 3 (ipykernel)",
   "language": "python",
   "name": "python3"
  },
  "language_info": {
   "codemirror_mode": {
    "name": "ipython",
    "version": 3
   },
   "file_extension": ".py",
   "mimetype": "text/x-python",
   "name": "python",
   "nbconvert_exporter": "python",
   "pygments_lexer": "ipython3",
   "version": "3.11.4"
  }
 },
 "nbformat": 4,
 "nbformat_minor": 5
}
