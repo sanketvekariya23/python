{
 "cells": [
  {
   "cell_type": "code",
   "execution_count": 17,
   "id": "660ccd78",
   "metadata": {},
   "outputs": [
    {
     "name": "stdout",
     "output_type": "stream",
     "text": [
      "enter character which you want to find\n",
      "0e\n",
      "e\n",
      " is not in tuple\n"
     ]
    }
   ],
   "source": [
    "# tuple with if else\n",
    "# tuple is   immutable\n",
    "print(\"enter character which you want to find\")\n",
    "x = input(int())\n",
    "tuple =('a','b','c','d')\n",
    "if x in tuple:\n",
    "    print(x)\n",
    "    print(\" is in tuple\")\n",
    "else:\n",
    "    print(x)\n",
    "    print(\" is not in tuple\")\n"
   ]
  },
  {
   "cell_type": "code",
   "execution_count": 23,
   "id": "554ac161",
   "metadata": {},
   "outputs": [
    {
     "name": "stdout",
     "output_type": "stream",
     "text": [
      "enter three number\n",
      "999\n",
      "6\n",
      "6\n",
      "a is gretest 999\n"
     ]
    }
   ],
   "source": [
    "# find largest number \n",
    "print(\"enter three number\")\n",
    "a = int(input())\n",
    "b = int(input())\n",
    "c = int(input())\n",
    "if (a>b) & (a>=c):\n",
    "    print(\"a is gretest\",a)\n",
    "elif (b>a) & (b>=c):\n",
    "    print(\"b is gretest\",b)\n",
    "else:\n",
    "    print(\"c is gretest\",c)\n",
    "    "
   ]
  },
  {
   "cell_type": "code",
   "execution_count": 30,
   "id": "44cd5cde",
   "metadata": {},
   "outputs": [],
   "source": [
    "#list with if else\n",
    "# list is mutable\n",
    "list=[\"sanket\",9,\"surat\",395006,\"varachha\"]\n",
    "if list[1] == 9 :\n",
    "    list[1] = 8\n",
    "    "
   ]
  },
  {
   "cell_type": "code",
   "execution_count": 38,
   "id": "2813d002",
   "metadata": {},
   "outputs": [
    {
     "data": {
      "text/plain": [
       "['sanket', 8, 'surat', 395006, 'varachha']"
      ]
     },
     "execution_count": 38,
     "metadata": {},
     "output_type": "execute_result"
    }
   ],
   "source": [
    "list=[\"sanket\",9,\"surat\",395006,\"varachha\"]\n",
    "if 9 in list:\n",
    "    list[1] = 8\n",
    "list"
   ]
  },
  {
   "cell_type": "code",
   "execution_count": 51,
   "id": "d27deeab",
   "metadata": {},
   "outputs": [
    {
     "data": {
      "text/plain": [
       "{'apple': 100, 'banana': 150, 'graps': 150, 'watermalon': 200}"
      ]
     },
     "execution_count": 51,
     "metadata": {},
     "output_type": "execute_result"
    }
   ],
   "source": [
    "#dictionory with if else\n",
    "# mutable\n",
    "d = {\"apple\":50,\"banana\":100,\"graps\":150,\"watermalon\":200}\n",
    "if d[\"apple\"] == 50:\n",
    "    d[\"apple\"] = 100\n",
    "if d[\"banana\"] == 100:\n",
    "    d[\"banana\"] = 150\n",
    "d"
   ]
  },
  {
   "cell_type": "code",
   "execution_count": null,
   "id": "d8a6c41e",
   "metadata": {},
   "outputs": [],
   "source": []
  }
 ],
 "metadata": {
  "kernelspec": {
   "display_name": "Python 3 (ipykernel)",
   "language": "python",
   "name": "python3"
  },
  "language_info": {
   "codemirror_mode": {
    "name": "ipython",
    "version": 3
   },
   "file_extension": ".py",
   "mimetype": "text/x-python",
   "name": "python",
   "nbconvert_exporter": "python",
   "pygments_lexer": "ipython3",
   "version": "3.11.4"
  }
 },
 "nbformat": 4,
 "nbformat_minor": 5
}
