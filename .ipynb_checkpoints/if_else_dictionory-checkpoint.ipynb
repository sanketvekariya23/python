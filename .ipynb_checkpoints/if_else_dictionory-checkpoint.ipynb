{
 "cells": [
  {
   "cell_type": "code",
   "execution_count": 17,
   "id": "7a7a7466",
   "metadata": {},
   "outputs": [
    {
     "name": "stdout",
     "output_type": "stream",
     "text": [
      "enter character which you want to find\n",
      "0e\n",
      "e\n",
      " is not in tuple\n"
     ]
    }
   ],
   "source": [
    "# tuple with if else\n",
    "# tuple is   immutable\n",
    "print(\"enter character which you want to find\")\n",
    "x = input(int())\n",
    "tuple =('a','b','c','d')\n",
    "if x in tuple:\n",
    "    print(x)\n",
    "    print(\" is in tuple\")\n",
    "else:\n",
    "    print(x)\n",
    "    print(\" is not in tuple\")\n"
   ]
  },
  {
   "cell_type": "code",
   "execution_count": 18,
   "id": "9b4fd69e",
   "metadata": {},
   "outputs": [
    {
     "name": "stdout",
     "output_type": "stream",
     "text": [
      "enter three number\n",
      "33\n",
      "333\n",
      "3\n",
      "c is gretest 3\n"
     ]
    }
   ],
   "source": [
    "# find largest number \n",
    "print(\"enter three number\")\n",
    "a = int(input())\n",
    "b = int(input())\n",
    "c = int(input())\n",
    "if a>b & a>=c:\n",
    "    print(\"a is gretest\",a)\n",
    "elif b>a & b>=c:\n",
    "    print(\"b is gretest\",b)\n",
    "else:\n",
    "    print(\"c is gretest\",c)\n",
    "    "
   ]
  },
  {
   "cell_type": "code",
   "execution_count": null,
   "id": "313ab1bb",
   "metadata": {},
   "outputs": [],
   "source": [
    "#list with if else"
   ]
  }
 ],
 "metadata": {
  "kernelspec": {
   "display_name": "Python 3 (ipykernel)",
   "language": "python",
   "name": "python3"
  },
  "language_info": {
   "codemirror_mode": {
    "name": "ipython",
    "version": 3
   },
   "file_extension": ".py",
   "mimetype": "text/x-python",
   "name": "python",
   "nbconvert_exporter": "python",
   "pygments_lexer": "ipython3",
   "version": "3.11.4"
  }
 },
 "nbformat": 4,
 "nbformat_minor": 5
}
