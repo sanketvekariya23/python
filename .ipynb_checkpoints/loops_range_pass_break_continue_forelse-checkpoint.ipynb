{
 "cells": [
  {
   "cell_type": "code",
   "execution_count": 13,
   "id": "66cd0b4b",
   "metadata": {},
   "outputs": [
    {
     "name": "stdout",
     "output_type": "stream",
     "text": [
      "0\n",
      "1\n",
      "2\n",
      "3\n",
      "4\n",
      "5\n",
      "6\n",
      "7\n",
      "8\n",
      "9\n"
     ]
    }
   ],
   "source": [
    "# loops \n",
    "# while loop\n",
    "\n",
    "i=0\n",
    "while i<10:\n",
    "    print(i)\n",
    "    i=i+1"
   ]
  },
  {
   "cell_type": "code",
   "execution_count": 25,
   "id": "56941f58",
   "metadata": {},
   "outputs": [
    {
     "name": "stdout",
     "output_type": "stream",
     "text": [
      "kaushik\n",
      "sanket\n",
      "akshay\n",
      "umesh\n"
     ]
    },
    {
     "ename": "IndexError",
     "evalue": "list index out of range",
     "output_type": "error",
     "traceback": [
      "\u001b[1;31m---------------------------------------------------------------------------\u001b[0m",
      "\u001b[1;31mIndexError\u001b[0m                                Traceback (most recent call last)",
      "Cell \u001b[1;32mIn[25], line 4\u001b[0m\n\u001b[0;32m      2\u001b[0m i \u001b[38;5;241m=\u001b[39m \u001b[38;5;241m0\u001b[39m\n\u001b[0;32m      3\u001b[0m \u001b[38;5;28;01mwhile\u001b[39;00m i\u001b[38;5;241m<\u001b[39m\u001b[38;5;241m=\u001b[39m\u001b[38;5;28mlen\u001b[39m(\u001b[38;5;28mlist\u001b[39m):\n\u001b[1;32m----> 4\u001b[0m     \u001b[38;5;28mprint\u001b[39m(\u001b[38;5;28mlist\u001b[39m[i])\n\u001b[0;32m      5\u001b[0m     i\u001b[38;5;241m=\u001b[39mi\u001b[38;5;241m+\u001b[39m\u001b[38;5;241m1\u001b[39m\n",
      "\u001b[1;31mIndexError\u001b[0m: list index out of range"
     ]
    }
   ],
   "source": [
    "list2 = [\"kaushik\",\"sanket\",\"akshay\",\"umesh\"]\n",
    "i = 0\n",
    "while i<=len(list):\n",
    "    print(list[i])\n",
    "    i=i+1\n",
    "    "
   ]
  },
  {
   "cell_type": "code",
   "execution_count": 29,
   "id": "2977385a",
   "metadata": {},
   "outputs": [
    {
     "name": "stdout",
     "output_type": "stream",
     "text": [
      "mangoes\n",
      "banana\n",
      "watermalon\n",
      "graps\n",
      "olive\n"
     ]
    }
   ],
   "source": [
    "# for loop\n",
    "#for loop is used to itrate element or list\n",
    "list1 = [\"mangoes\",\"banana\",\"watermalon\",\"graps\",\"olive\"]\n",
    "for item in list1:\n",
    "     print(item)"
   ]
  },
  {
   "cell_type": "code",
   "execution_count": 30,
   "id": "25615070",
   "metadata": {},
   "outputs": [
    {
     "name": "stdout",
     "output_type": "stream",
     "text": [
      "0\n",
      "1\n",
      "2\n",
      "3\n",
      "4\n",
      "5\n",
      "6\n",
      "7\n"
     ]
    }
   ],
   "source": [
    "#range :genrate sequence of number in specific range\n",
    "for i in range(8):\n",
    "    print(i)"
   ]
  },
  {
   "cell_type": "code",
   "execution_count": 32,
   "id": "f80df2e5",
   "metadata": {},
   "outputs": [
    {
     "name": "stdout",
     "output_type": "stream",
     "text": [
      "5\n",
      "6\n",
      "7\n",
      "8\n",
      "9\n",
      "10\n",
      "11\n",
      "12\n",
      "13\n",
      "14\n",
      "15\n",
      "16\n",
      "17\n",
      "18\n",
      "19\n"
     ]
    }
   ],
   "source": [
    "for i in range(5,20):\n",
    "    print(i)"
   ]
  },
  {
   "cell_type": "code",
   "execution_count": 33,
   "id": "be7d663a",
   "metadata": {},
   "outputs": [
    {
     "name": "stdout",
     "output_type": "stream",
     "text": [
      "5\n",
      "7\n",
      "9\n",
      "11\n",
      "13\n",
      "15\n",
      "17\n",
      "19\n"
     ]
    }
   ],
   "source": [
    "for i in range(5,20,2):   # skip one and then print second number\n",
    "    print(i)"
   ]
  },
  {
   "cell_type": "code",
   "execution_count": 36,
   "id": "f2b25a48",
   "metadata": {},
   "outputs": [
    {
     "name": "stdout",
     "output_type": "stream",
     "text": [
      "mangoes\n",
      "banana\n",
      "watermalon\n",
      "graps\n",
      "olive\n",
      "no avalible\n"
     ]
    }
   ],
   "source": [
    "#loop with else;\n",
    "list1 = [\"mangoes\",\"banana\",\"watermalon\",\"graps\",\"olive\"]\n",
    "for item in list1:\n",
    "    print(item)\n",
    "else:\n",
    "    print(\"no avalible\")\n",
    "    \n",
    "#     if for loop succefully execute then else body will execute\n"
   ]
  },
  {
   "cell_type": "code",
   "execution_count": 38,
   "id": "0a712e86",
   "metadata": {},
   "outputs": [
    {
     "name": "stdout",
     "output_type": "stream",
     "text": [
      "mangoes\n",
      "banana\n",
      "watermalon\n"
     ]
    }
   ],
   "source": [
    "# break is used to terminate loop\n",
    "list1 = [\"mangoes\",\"banana\",\"watermalon\",\"graps\",\"olive\"]\n",
    "for item in list1:\n",
    "    if item == \"graps\":\n",
    "        break\n",
    "    print(item)\n",
    "else:\n",
    "    print(\"no avalible\")\n",
    "    # else is not execute becuse for loop is not execute succefully"
   ]
  },
  {
   "cell_type": "code",
   "execution_count": 48,
   "id": "69e35dad",
   "metadata": {},
   "outputs": [
    {
     "name": "stdout",
     "output_type": "stream",
     "text": [
      "0\n",
      "1\n",
      "2\n",
      "3\n",
      "4\n",
      "5\n",
      "6\n",
      "7\n",
      "8\n",
      "9\n",
      "10\n",
      "11\n",
      "12\n",
      "13\n",
      "14\n",
      "15\n",
      "16\n",
      "17\n",
      "18\n",
      "19\n"
     ]
    }
   ],
   "source": [
    "# continue is used to skip the value:\n",
    "for i in range(0,20):\n",
    "    print(i)\n",
    "    if i==15:\n",
    "        continue"
   ]
  },
  {
   "cell_type": "code",
   "execution_count": null,
   "id": "6237ee44",
   "metadata": {},
   "outputs": [],
   "source": [
    "#pass is null statement it instruct to do nothing\n",
    "i=[1,3,5,7,9,11,13,17,19]\n",
    "for item in i:\n",
    "    pass\n",
    "\n",
    "def run(player):\n",
    "    pass\n",
    "\n",
    "i=0\n",
    "while i<50:\n",
    "    pass"
   ]
  }
 ],
 "metadata": {
  "kernelspec": {
   "display_name": "Python 3 (ipykernel)",
   "language": "python",
   "name": "python3"
  },
  "language_info": {
   "codemirror_mode": {
    "name": "ipython",
    "version": 3
   },
   "file_extension": ".py",
   "mimetype": "text/x-python",
   "name": "python",
   "nbconvert_exporter": "python",
   "pygments_lexer": "ipython3",
   "version": "3.11.4"
  }
 },
 "nbformat": 4,
 "nbformat_minor": 5
}
