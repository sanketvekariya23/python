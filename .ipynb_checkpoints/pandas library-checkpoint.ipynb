{
 "cells": [
  {
   "cell_type": "code",
   "execution_count": 6,
   "id": "048c2d93",
   "metadata": {},
   "outputs": [
    {
     "name": "stdout",
     "output_type": "stream",
     "text": [
      "2023-03-27    50\n",
      "2023-03-28    36\n",
      "2023-03-29     8\n",
      "2023-03-30    99\n",
      "2023-03-31     5\n",
      "dtype: int64\n"
     ]
    }
   ],
   "source": [
    "import pandas as pd\n",
    "import numpy as np\n",
    "dates = pd.to_datetime(\"27th of march, 2023\")\n",
    "i = dates + pd.to_timedelta(np.arange(5),unit = 'D')\n",
    "d = [50,36,8,99,5]\n",
    "time_series = pd.Series(data =d , index = i)\n",
    "print(time_series)\n"
   ]
  },
  {
   "cell_type": "code",
   "execution_count": 7,
   "id": "160be411",
   "metadata": {},
   "outputs": [
    {
     "name": "stdout",
     "output_type": "stream",
     "text": [
      "name                 sanket\n",
      "add                   surat\n",
      "university              gtu\n",
      "city          surat,gujarat\n",
      "dtype: object\n"
     ]
    }
   ],
   "source": [
    "import numpy as np\n",
    "import pandas as pd\n",
    "name = [\"name\" , \"add\",\"university\",\"city\"]\n",
    "student = [\"sanket\",\"surat\",\"gtu\",\"surat,gujarat\"]\n",
    "data = pd.Series(student , index = name)\n",
    "print(data)"
   ]
  },
  {
   "cell_type": "code",
   "execution_count": 9,
   "id": "86b3ad6e",
   "metadata": {},
   "outputs": [
    {
     "name": "stdout",
     "output_type": "stream",
     "text": [
      "     ada  pds\n",
      "101   30   82\n",
      "102   58   44\n",
      "103   34   98\n",
      "104   41   80\n",
      "105   99   40\n"
     ]
    }
   ],
   "source": [
    "import pandas as pd\n",
    "import numpy as np\n",
    "arr = np.random.randint(0,100,10).reshape(5,2)\n",
    "df = pd.DataFrame(arr,np.arange(101,106),['ada','pds'])\n",
    "print(df)"
   ]
  },
  {
   "cell_type": "code",
   "execution_count": 11,
   "id": "88f41bdf",
   "metadata": {},
   "outputs": [
    {
     "name": "stdout",
     "output_type": "stream",
     "text": [
      "     ada  pds  total\n",
      "101   30   82    112\n",
      "102   58   44    102\n",
      "103   34   98    132\n",
      "104   41   80    121\n",
      "105   99   40    139\n"
     ]
    }
   ],
   "source": [
    "df['total'] = df['ada'] + df['pds']\n",
    "print(df)"
   ]
  },
  {
   "cell_type": "code",
   "execution_count": 17,
   "id": "bfc90265",
   "metadata": {},
   "outputs": [
    {
     "data": {
      "text/html": [
       "<div>\n",
       "<style scoped>\n",
       "    .dataframe tbody tr th:only-of-type {\n",
       "        vertical-align: middle;\n",
       "    }\n",
       "\n",
       "    .dataframe tbody tr th {\n",
       "        vertical-align: top;\n",
       "    }\n",
       "\n",
       "    .dataframe thead th {\n",
       "        text-align: right;\n",
       "    }\n",
       "</style>\n",
       "<table border=\"1\" class=\"dataframe\">\n",
       "  <thead>\n",
       "    <tr style=\"text-align: right;\">\n",
       "      <th></th>\n",
       "      <th>ada</th>\n",
       "      <th>pds</th>\n",
       "      <th>total</th>\n",
       "    </tr>\n",
       "  </thead>\n",
       "  <tbody>\n",
       "    <tr>\n",
       "      <th>101</th>\n",
       "      <td>30</td>\n",
       "      <td>82</td>\n",
       "      <td>112</td>\n",
       "    </tr>\n",
       "    <tr>\n",
       "      <th>104</th>\n",
       "      <td>41</td>\n",
       "      <td>80</td>\n",
       "      <td>121</td>\n",
       "    </tr>\n",
       "  </tbody>\n",
       "</table>\n",
       "</div>"
      ],
      "text/plain": [
       "     ada  pds  total\n",
       "101   30   82    112\n",
       "104   41   80    121"
      ]
     },
     "execution_count": 17,
     "metadata": {},
     "output_type": "execute_result"
    }
   ],
   "source": [
    "df.loc[[101,104]]"
   ]
  },
  {
   "cell_type": "code",
   "execution_count": 19,
   "id": "a86beb3b",
   "metadata": {},
   "outputs": [
    {
     "name": "stdout",
     "output_type": "stream",
     "text": [
      "     ada  pds\n",
      "101   30   82\n",
      "102   58   44\n",
      "103   34   98\n",
      "104   41   80\n",
      "105   99   40\n"
     ]
    }
   ],
   "source": [
    "df.drop('total',axis=1,inplace=True)\n",
    "print(df)"
   ]
  },
  {
   "cell_type": "code",
   "execution_count": 20,
   "id": "50c20ccc",
   "metadata": {},
   "outputs": [
    {
     "name": "stdout",
     "output_type": "stream",
     "text": [
      "       ada    pds\n",
      "101  False   True\n",
      "102   True  False\n",
      "103  False   True\n",
      "104  False   True\n",
      "105   True  False\n"
     ]
    }
   ],
   "source": [
    "dfbool = df>50\n",
    "print(dfbool)"
   ]
  },
  {
   "cell_type": "code",
   "execution_count": 21,
   "id": "6782ae0b",
   "metadata": {},
   "outputs": [
    {
     "name": "stdout",
     "output_type": "stream",
     "text": [
      "101     True\n",
      "102    False\n",
      "103     True\n",
      "104     True\n",
      "105    False\n",
      "Name: pds, dtype: bool\n"
     ]
    }
   ],
   "source": [
    "dfbool1 = df['pds']>50\n",
    "print(dfbool1)"
   ]
  },
  {
   "cell_type": "code",
   "execution_count": 22,
   "id": "68bc7896",
   "metadata": {},
   "outputs": [
    {
     "name": "stdout",
     "output_type": "stream",
     "text": [
      "     ada  pds\n",
      "101   30   82\n",
      "102   58   44\n",
      "103   34   98\n",
      "104   41   80\n",
      "105   99   40\n"
     ]
    }
   ],
   "source": [
    "print(df)"
   ]
  },
  {
   "cell_type": "code",
   "execution_count": 23,
   "id": "ccd23feb",
   "metadata": {},
   "outputs": [
    {
     "name": "stdout",
     "output_type": "stream",
     "text": [
      "         ada  pds\n",
      "rollno.          \n",
      "101       30   82\n",
      "102       58   44\n",
      "103       34   98\n",
      "104       41   80\n",
      "105       99   40\n"
     ]
    }
   ],
   "source": [
    "df.index.name = \"rollno.\"\n",
    "print(df)"
   ]
  },
  {
   "cell_type": "code",
   "execution_count": null,
   "id": "e7e6ebc8",
   "metadata": {},
   "outputs": [],
   "source": []
  }
 ],
 "metadata": {
  "kernelspec": {
   "display_name": "Python 3 (ipykernel)",
   "language": "python",
   "name": "python3"
  },
  "language_info": {
   "codemirror_mode": {
    "name": "ipython",
    "version": 3
   },
   "file_extension": ".py",
   "mimetype": "text/x-python",
   "name": "python",
   "nbconvert_exporter": "python",
   "pygments_lexer": "ipython3",
   "version": "3.11.4"
  }
 },
 "nbformat": 4,
 "nbformat_minor": 5
}
