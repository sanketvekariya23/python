{
 "cells": [
  {
   "cell_type": "code",
   "execution_count": 50,
   "id": "a6e82946",
   "metadata": {},
   "outputs": [
    {
     "name": "stdout",
     "output_type": "stream",
     "text": [
      "this written content is overwrite\n",
      "in sanket.txt file\n"
     ]
    }
   ],
   "source": [
    "f = open('sanket.txt','r')\n",
    "d = f.read()\n",
    "print(d)\n",
    "f.close()"
   ]
  },
  {
   "cell_type": "code",
   "execution_count": 41,
   "id": "dc4d61f6",
   "metadata": {},
   "outputs": [
    {
     "name": "stdout",
     "output_type": "stream",
     "text": [
      "this written content is overwrite\n",
      "\n",
      "in sanket.txt file\n"
     ]
    }
   ],
   "source": [
    "f = open('sanket.txt','r')\n",
    "d = f.readline()\n",
    "print(d)\n",
    "\n",
    "d = f.readline()                 #read one line\n",
    "print(d)\n",
    "\n",
    "f.close()"
   ]
  },
  {
   "cell_type": "code",
   "execution_count": 15,
   "id": "c10a4daf",
   "metadata": {},
   "outputs": [],
   "source": [
    "# r-read\n",
    "# w-write\n",
    "# a-append\n",
    "# +-updating\n",
    "# rb-open for read binary file"
   ]
  },
  {
   "cell_type": "code",
   "execution_count": 32,
   "id": "4968508b",
   "metadata": {},
   "outputs": [
    {
     "name": "stdout",
     "output_type": "stream",
     "text": [
      "53\n"
     ]
    }
   ],
   "source": [
    "f = open('sanket.txt','w')\n",
    "d = f.write(\"this written content is overwrite  in sanket.txt file\")\n",
    "print(d)\n",
    "f.close()"
   ]
  },
  {
   "cell_type": "code",
   "execution_count": 43,
   "id": "77476e60",
   "metadata": {},
   "outputs": [],
   "source": [
    "# f = open('sanket.txt','a')\n",
    "# d = f.append(\"append at last\")\n",
    "# print(d)\n",
    "# f.close()"
   ]
  },
  {
   "cell_type": "code",
   "execution_count": 20,
   "id": "1ded665c",
   "metadata": {},
   "outputs": [],
   "source": [
    "# with statement -use of with statement is no need to close file aftrwe reading ,writng..."
   ]
  },
  {
   "cell_type": "code",
   "execution_count": 38,
   "id": "908f03af",
   "metadata": {},
   "outputs": [],
   "source": [
    "with open('sanket.txt','r') as f:\n",
    "    f.read()"
   ]
  },
  {
   "cell_type": "code",
   "execution_count": 57,
   "id": "c7f93f9b",
   "metadata": {},
   "outputs": [
    {
     "name": "stdout",
     "output_type": "stream",
     "text": [
      "twinkle twinkle little star\n",
      "twinkle is not present\n"
     ]
    }
   ],
   "source": [
    "#questioin :1\n",
    "f = open('poem.txt','r')\n",
    "d = f.read()\n",
    "print(d)\n",
    "word = 'twinkle'\n",
    "if word in f:\n",
    "    print(word+ \" is present\")\n",
    "else:\n",
    "    print(word + \" is not present\")\n",
    "f.close()"
   ]
  },
  {
   "cell_type": "code",
   "execution_count": 67,
   "id": "675e54f9",
   "metadata": {},
   "outputs": [],
   "source": [
    "# question :2 \n",
    "# user play game game() functin in program and it is return integer value. you need to read file it's contain either blank or \n",
    "# previous high score if user score is high than update highscore\n",
    "\n",
    "def game():\n",
    "    return 1144\n",
    "score = game()\n",
    "with open('game_highscore.txt','r') as f:\n",
    "    highscore = f.read()\n",
    "if highscore ==\"\":\n",
    "    with open('game_highscore.txt','w') as f:\n",
    "        f.write(str(score))\n",
    "        \n",
    "elif int(highscore)<score:\n",
    "    with open('game_highscore.txt','w') as f:\n",
    "        f.write(str(score))"
   ]
  },
  {
   "cell_type": "code",
   "execution_count": 82,
   "id": "a0f036be",
   "metadata": {},
   "outputs": [
    {
     "ename": "FileNotFoundError",
     "evalue": "[Errno 2] No such file or directory: 'tables/multiplicant_table_of_2.txt'",
     "output_type": "error",
     "traceback": [
      "\u001b[1;31m---------------------------------------------------------------------------\u001b[0m",
      "\u001b[1;31mFileNotFoundError\u001b[0m                         Traceback (most recent call last)",
      "Cell \u001b[1;32mIn[82], line 5\u001b[0m\n\u001b[0;32m      1\u001b[0m \u001b[38;5;66;03m#question : 3\u001b[39;00m\n\u001b[0;32m      2\u001b[0m \u001b[38;5;66;03m# genrate multiplicant 2 to 20 table and store it different file\u001b[39;00m\n\u001b[0;32m      4\u001b[0m \u001b[38;5;28;01mfor\u001b[39;00m i \u001b[38;5;129;01min\u001b[39;00m \u001b[38;5;28mrange\u001b[39m(\u001b[38;5;241m2\u001b[39m,\u001b[38;5;241m21\u001b[39m):\n\u001b[1;32m----> 5\u001b[0m     \u001b[38;5;28;01mwith\u001b[39;00m \u001b[38;5;28mopen\u001b[39m(\u001b[38;5;124mf\u001b[39m\u001b[38;5;124m\"\u001b[39m\u001b[38;5;124mtables/multiplicant_table_of_\u001b[39m\u001b[38;5;132;01m{\u001b[39;00mi\u001b[38;5;132;01m}\u001b[39;00m\u001b[38;5;124m.txt\u001b[39m\u001b[38;5;124m\"\u001b[39m, \u001b[38;5;124m'\u001b[39m\u001b[38;5;124mw\u001b[39m\u001b[38;5;124m'\u001b[39m) \u001b[38;5;28;01mas\u001b[39;00m f:\n\u001b[0;32m      6\u001b[0m         \u001b[38;5;28;01mfor\u001b[39;00m j \u001b[38;5;129;01min\u001b[39;00m \u001b[38;5;28mrange\u001b[39m(\u001b[38;5;241m1\u001b[39m,\u001b[38;5;241m11\u001b[39m):\n\u001b[0;32m      7\u001b[0m             f\u001b[38;5;241m.\u001b[39mwrite(\u001b[38;5;124mf\u001b[39m\u001b[38;5;124m\"\u001b[39m\u001b[38;5;132;01m{\u001b[39;00mi\u001b[38;5;132;01m}\u001b[39;00m\u001b[38;5;124mx\u001b[39m\u001b[38;5;132;01m{\u001b[39;00mj\u001b[38;5;132;01m}\u001b[39;00m\u001b[38;5;124m=\u001b[39m\u001b[38;5;132;01m{\u001b[39;00mi\u001b[38;5;241m*\u001b[39mj\u001b[38;5;132;01m}\u001b[39;00m\u001b[38;5;124m\"\u001b[39m)\n",
      "File \u001b[1;32mH:\\anaconda\\Lib\\site-packages\\IPython\\core\\interactiveshell.py:284\u001b[0m, in \u001b[0;36m_modified_open\u001b[1;34m(file, *args, **kwargs)\u001b[0m\n\u001b[0;32m    277\u001b[0m \u001b[38;5;28;01mif\u001b[39;00m file \u001b[38;5;129;01min\u001b[39;00m {\u001b[38;5;241m0\u001b[39m, \u001b[38;5;241m1\u001b[39m, \u001b[38;5;241m2\u001b[39m}:\n\u001b[0;32m    278\u001b[0m     \u001b[38;5;28;01mraise\u001b[39;00m \u001b[38;5;167;01mValueError\u001b[39;00m(\n\u001b[0;32m    279\u001b[0m         \u001b[38;5;124mf\u001b[39m\u001b[38;5;124m\"\u001b[39m\u001b[38;5;124mIPython won\u001b[39m\u001b[38;5;124m'\u001b[39m\u001b[38;5;124mt let you open fd=\u001b[39m\u001b[38;5;132;01m{\u001b[39;00mfile\u001b[38;5;132;01m}\u001b[39;00m\u001b[38;5;124m by default \u001b[39m\u001b[38;5;124m\"\u001b[39m\n\u001b[0;32m    280\u001b[0m         \u001b[38;5;124m\"\u001b[39m\u001b[38;5;124mas it is likely to crash IPython. If you know what you are doing, \u001b[39m\u001b[38;5;124m\"\u001b[39m\n\u001b[0;32m    281\u001b[0m         \u001b[38;5;124m\"\u001b[39m\u001b[38;5;124myou can use builtins\u001b[39m\u001b[38;5;124m'\u001b[39m\u001b[38;5;124m open.\u001b[39m\u001b[38;5;124m\"\u001b[39m\n\u001b[0;32m    282\u001b[0m     )\n\u001b[1;32m--> 284\u001b[0m \u001b[38;5;28;01mreturn\u001b[39;00m io_open(file, \u001b[38;5;241m*\u001b[39margs, \u001b[38;5;241m*\u001b[39m\u001b[38;5;241m*\u001b[39mkwargs)\n",
      "\u001b[1;31mFileNotFoundError\u001b[0m: [Errno 2] No such file or directory: 'tables/multiplicant_table_of_2.txt'"
     ]
    }
   ],
   "source": [
    "#question : 3\n",
    "# genrate multiplicant 2 to 20 table and store it different file\n",
    "\n",
    "for i in range(2,21):\n",
    "    with open(f\"tables/multiplicant_table_of_{i}.txt\", 'w') as f:\n",
    "        for j in range(1,11):\n",
    "            f.write(f\"{i}x{j}={i*j}\")\n",
    "    break "
   ]
  },
  {
   "cell_type": "code",
   "execution_count": 90,
   "id": "5bff30e3",
   "metadata": {},
   "outputs": [],
   "source": [
    "#question :4\n",
    "# file contain word badboy you need to replace #####\n",
    "with open('sanket.txt') as f:\n",
    "    content = f.read()\n",
    "content = content.replace(\"badboy\",\"#####\")\n",
    "with open('sanket.txt','w') as f:\n",
    "    f.write(content)"
   ]
  },
  {
   "cell_type": "code",
   "execution_count": 96,
   "id": "4522b684",
   "metadata": {},
   "outputs": [],
   "source": [
    "# list replace\n",
    "list= [\"written \",\"content\"]\n",
    "with open('sanket.txt') as f:\n",
    "    content = f.read()\n",
    "for word in list:\n",
    "    content = content.replace(word,'#######')\n",
    "    with open('sanket.txt','w') as f:\n",
    "        f.write(content)  \n"
   ]
  },
  {
   "cell_type": "code",
   "execution_count": null,
   "id": "f4ff482b",
   "metadata": {},
   "outputs": [],
   "source": []
  }
 ],
 "metadata": {
  "kernelspec": {
   "display_name": "Python 3 (ipykernel)",
   "language": "python",
   "name": "python3"
  },
  "language_info": {
   "codemirror_mode": {
    "name": "ipython",
    "version": 3
   },
   "file_extension": ".py",
   "mimetype": "text/x-python",
   "name": "python",
   "nbconvert_exporter": "python",
   "pygments_lexer": "ipython3",
   "version": "3.11.4"
  }
 },
 "nbformat": 4,
 "nbformat_minor": 5
}
